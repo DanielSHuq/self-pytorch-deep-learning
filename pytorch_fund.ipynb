{
 "cells": [
  {
   "cell_type": "code",
   "execution_count": 2,
   "metadata": {},
   "outputs": [
    {
     "name": "stdout",
     "output_type": "stream",
     "text": [
      "2.5.1\n"
     ]
    }
   ],
   "source": [
    "import torch\n",
    "import pandas as pd\n",
    "import numpy as np\n",
    "import matplotlib.pyplot as plt\n",
    "print(torch.__version__)"
   ]
  },
  {
   "cell_type": "markdown",
   "metadata": {},
   "source": [
    "Introduction to Tensors\n",
    "\n",
    "Pytorch tensors are created using torch.tensor()"
   ]
  },
  {
   "cell_type": "code",
   "execution_count": 3,
   "metadata": {},
   "outputs": [
    {
     "data": {
      "text/plain": [
       "torch.Size([])"
      ]
     },
     "execution_count": 3,
     "metadata": {},
     "output_type": "execute_result"
    }
   ],
   "source": [
    "# scalar\n",
    "\n",
    "scalar = torch.tensor(7)\n",
    "scalar.ndim # 0\n",
    "scalar.shape # torch.Size([])"
   ]
  },
  {
   "cell_type": "code",
   "execution_count": 4,
   "metadata": {},
   "outputs": [
    {
     "data": {
      "text/plain": [
       "7"
      ]
     },
     "execution_count": 4,
     "metadata": {},
     "output_type": "execute_result"
    }
   ],
   "source": [
    "# Get tensor back as Python int\n",
    "scalar.item() # 7"
   ]
  },
  {
   "cell_type": "code",
   "execution_count": 5,
   "metadata": {},
   "outputs": [
    {
     "data": {
      "text/plain": [
       "torch.Size([2])"
      ]
     },
     "execution_count": 5,
     "metadata": {},
     "output_type": "execute_result"
    }
   ],
   "source": [
    "# Vector\n",
    "vector = torch.tensor([7,7])\n",
    "vector # tensor([7, 7])\n",
    "\n",
    "vector.ndim # 1\n",
    "vector.shape # torch.Size([2])"
   ]
  },
  {
   "cell_type": "code",
   "execution_count": 6,
   "metadata": {},
   "outputs": [
    {
     "data": {
      "text/plain": [
       "torch.Size([2, 2])"
      ]
     },
     "execution_count": 6,
     "metadata": {},
     "output_type": "execute_result"
    }
   ],
   "source": [
    "# MATRIX\n",
    "\n",
    "matrix = torch.tensor([[7,8],[9,10]])\n",
    "matrix.ndim # 2\n",
    "matrix[1] # tensor([ 9, 10])\n",
    "matrix.shape # torch.Size([2, 2])\n",
    "# normally write matrix and tensors in capital letters for variables\n",
    "\n",
    "MATRIX = torch.tensor([[7,8],[9,10]])\n",
    "MATRIX.ndim # 2\n",
    "MATRIX[1] # tensor([ 9, 10])\n",
    "MATRIX.shape # torch.Size([2, 2])"
   ]
  },
  {
   "cell_type": "code",
   "execution_count": 7,
   "metadata": {},
   "outputs": [
    {
     "data": {
      "text/plain": [
       "tensor([[1, 2, 3],\n",
       "        [4, 5, 6],\n",
       "        [7, 8, 9]])"
      ]
     },
     "execution_count": 7,
     "metadata": {},
     "output_type": "execute_result"
    }
   ],
   "source": [
    "# tensor\n",
    "TENSOR = torch.tensor([[[1,2,3],[4,5,6],[7,8,9]]])\n",
    "TENSOR.ndim # 3\n",
    "TENSOR.shape # torch.Size([1, 3, 3])\n",
    "TENSOR[0] # tensor([[1, 2, 3],\n",
    "          #        [4, 5, 6],\n",
    "          #        [7, 8, 9]])\n",
    "# tensor[1]  IndexError: index 1 is out of bounds for dimension 0 with size 1"
   ]
  },
  {
   "cell_type": "markdown",
   "metadata": {},
   "source": [
    "### Random Tensors\n",
    "\n",
    "Neural networks often begin with tensors filled with random numbers and then adjust them to fit the data.\n",
    "\n",
    "`Start with random numbers -> look at data -> update random numbers -> look at data -> update random numbers`"
   ]
  },
  {
   "cell_type": "code",
   "execution_count": 8,
   "metadata": {},
   "outputs": [
    {
     "data": {
      "text/plain": [
       "tensor([[0.2847, 0.0218, 0.9098, 0.1319],\n",
       "        [0.2090, 0.2658, 0.4724, 0.8538],\n",
       "        [0.6993, 0.5761, 0.2674, 0.7252]])"
      ]
     },
     "execution_count": 8,
     "metadata": {},
     "output_type": "execute_result"
    }
   ],
   "source": [
    "# Create a random tensor of size (3,4)\n",
    "R_T = torch.rand(3,4)\n",
    "R_T.shape # torch.Size([3, 4])\n",
    "R_T.ndim # 2\n",
    "R_T"
   ]
  },
  {
   "cell_type": "code",
   "execution_count": 9,
   "metadata": {},
   "outputs": [
    {
     "data": {
      "text/plain": [
       "tensor([[[8.5791e-01, 2.0130e-01, 7.8213e-01,  ..., 6.5178e-01,\n",
       "          2.9808e-01, 8.6008e-01],\n",
       "         [3.7343e-01, 9.2687e-01, 7.5836e-01,  ..., 5.2487e-01,\n",
       "          6.5328e-01, 2.7168e-04],\n",
       "         [7.4855e-01, 1.0131e-01, 2.7552e-01,  ..., 8.2258e-01,\n",
       "          4.9153e-02, 6.6170e-01],\n",
       "         ...,\n",
       "         [7.0741e-01, 6.1752e-01, 3.2767e-01,  ..., 9.9465e-03,\n",
       "          3.4962e-01, 4.8787e-02],\n",
       "         [4.4411e-01, 9.2131e-01, 6.3526e-01,  ..., 7.0875e-01,\n",
       "          8.4753e-02, 9.6421e-02],\n",
       "         [6.1648e-01, 6.4327e-01, 1.4991e-02,  ..., 2.9281e-02,\n",
       "          8.1410e-01, 2.4932e-01]],\n",
       "\n",
       "        [[5.1212e-01, 9.1089e-01, 2.1913e-01,  ..., 6.5425e-01,\n",
       "          2.8148e-03, 5.2230e-02],\n",
       "         [7.9812e-01, 6.1359e-01, 3.0375e-01,  ..., 1.7688e-01,\n",
       "          6.8392e-01, 2.1793e-01],\n",
       "         [3.8489e-01, 3.1258e-01, 5.7640e-01,  ..., 9.3464e-01,\n",
       "          7.0225e-01, 6.8078e-01],\n",
       "         ...,\n",
       "         [4.7562e-01, 4.9369e-01, 6.3490e-01,  ..., 1.5998e-01,\n",
       "          5.6991e-01, 5.8286e-01],\n",
       "         [1.7937e-01, 9.9768e-02, 5.8245e-01,  ..., 6.9718e-01,\n",
       "          4.9300e-01, 1.3052e-01],\n",
       "         [1.8375e-02, 4.8261e-01, 4.1397e-01,  ..., 2.5261e-01,\n",
       "          2.1497e-01, 9.9410e-01]],\n",
       "\n",
       "        [[1.9284e-02, 8.3212e-01, 5.8932e-01,  ..., 6.7430e-01,\n",
       "          9.2039e-01, 5.2438e-01],\n",
       "         [3.5114e-01, 2.4790e-01, 2.0156e-01,  ..., 3.9152e-01,\n",
       "          9.2832e-01, 3.7627e-01],\n",
       "         [9.2996e-02, 4.1833e-01, 8.1327e-01,  ..., 8.7051e-01,\n",
       "          5.1226e-01, 4.7957e-01],\n",
       "         ...,\n",
       "         [6.2181e-02, 6.2053e-01, 2.4571e-01,  ..., 9.8835e-01,\n",
       "          6.7522e-01, 9.8778e-01],\n",
       "         [5.1638e-01, 5.8178e-01, 7.6798e-01,  ..., 1.3254e-01,\n",
       "          2.8565e-01, 6.0834e-01],\n",
       "         [6.6043e-01, 5.3642e-01, 4.1807e-01,  ..., 4.1792e-02,\n",
       "          7.2571e-01, 7.8095e-01]]])"
      ]
     },
     "execution_count": 9,
     "metadata": {},
     "output_type": "execute_result"
    }
   ],
   "source": [
    "rand_image_tensor = torch.rand(3,224,244)\n",
    "rand_image_tensor.shape # torch.Size([224, 224, 3])\n",
    "rand_image_tensor.ndim # 3\n",
    "rand_image_tensor   "
   ]
  },
  {
   "cell_type": "markdown",
   "metadata": {},
   "source": []
  },
  {
   "cell_type": "code",
   "execution_count": 10,
   "metadata": {},
   "outputs": [
    {
     "data": {
      "text/plain": [
       "tensor([[0., 0., 0., 0.],\n",
       "        [0., 0., 0., 0.],\n",
       "        [0., 0., 0., 0.]])"
      ]
     },
     "execution_count": 10,
     "metadata": {},
     "output_type": "execute_result"
    }
   ],
   "source": [
    "# Create a tensor with all zeros\n",
    "ZEROS = torch.zeros(3,4)\n",
    "ZEROS.dtype # torch.float32\n",
    "ZEROS"
   ]
  },
  {
   "cell_type": "code",
   "execution_count": 11,
   "metadata": {},
   "outputs": [
    {
     "data": {
      "text/plain": [
       "tensor([[1., 1., 1., 1.],\n",
       "        [1., 1., 1., 1.],\n",
       "        [1., 1., 1., 1.]])"
      ]
     },
     "execution_count": 11,
     "metadata": {},
     "output_type": "execute_result"
    }
   ],
   "source": [
    "# Create a tensor with all ones\n",
    "\n",
    "ONES = torch.ones(3,4)\n",
    "ONES.dtype # torch.float32\n",
    "ONES"
   ]
  },
  {
   "cell_type": "code",
   "execution_count": 12,
   "metadata": {},
   "outputs": [
    {
     "data": {
      "text/plain": [
       "tensor([1, 1, 1, 1, 1, 1, 1, 1, 1, 1])"
      ]
     },
     "execution_count": 12,
     "metadata": {},
     "output_type": "execute_result"
    }
   ],
   "source": [
    "# Use torch.arange()\n",
    "\n",
    "range_tensor = torch.arange(1,11)\n",
    "range_tensor # tensor([ 1,  2,  3,  4,  5,  6,  7,  8,  9, 10])\n",
    "\n",
    "step_range_tensor = torch.arange(1,11,2)\n",
    "step_range_tensor # tensor([1, 3, 5, 7, 9])\n",
    "\n",
    "one_to_thousand_step_77 = torch.arange(1,1001,77)\n",
    "one_to_thousand_step_77 # tensor([  1,  78, 155, 232, 309, 386, 463, 540, 617, 694, 771, 848, 925])\n",
    "\n",
    "zero_range_tensors = torch.zeros_like(range_tensor)\n",
    "zero_range_tensors # tensor([0, 0, 0, 0, 0, 0, 0, 0, 0, 0])\n",
    "\n",
    "one_range_tensors = torch.ones_like(range_tensor)\n",
    "one_range_tensors # tensor([1, 1, 1, 1, 1, 1, 1, 1, 1, 1])\n"
   ]
  },
  {
   "cell_type": "markdown",
   "metadata": {},
   "source": [
    "### Tensor Datatypes\n",
    "\n",
    "**Note** Tensor datatypes is one of the three big errors you'll run into with PyTorch & Deep learning:\n"
   ]
  },
  {
   "cell_type": "code",
   "execution_count": 13,
   "metadata": {},
   "outputs": [
    {
     "data": {
      "text/plain": [
       "torch.float64"
      ]
     },
     "execution_count": 13,
     "metadata": {},
     "output_type": "execute_result"
    }
   ],
   "source": [
    "float_32_tensor = torch.tensor([3.0,6.0,9.0]) # default dtype is float32\n",
    "float_32_tensor.dtype # torch.float32\n",
    "\n",
    "tensor_param_showcase = torch.tensor(data=[3.0,6.0,9.0],dtype=torch.float64,\n",
    "                                     # device='none',\n",
    "                                     # requires_grad means if you want to track gradients for tensor operations\n",
    "                                     requires_grad=False)\n",
    "float_64_tensor = torch.tensor([3.0,6.0,9.0],dtype=torch.float64)\n",
    "float_64_tensor.dtype # torch.float64"
   ]
  },
  {
   "cell_type": "code",
   "execution_count": 14,
   "metadata": {},
   "outputs": [
    {
     "data": {
      "text/plain": [
       "torch.float32"
      ]
     },
     "execution_count": 14,
     "metadata": {},
     "output_type": "execute_result"
    }
   ],
   "source": [
    "float_16_tensor = float_32_tensor.type(torch.float16) # convert float32 to float16\n",
    "test_tensor =float_16_tensor * float_32_tensor # tensor([ 9., 36., 81.], dtype=torch.float16)\n",
    "test_tensor.dtype"
   ]
  },
  {
   "cell_type": "code",
   "execution_count": 15,
   "metadata": {},
   "outputs": [
    {
     "name": "stdout",
     "output_type": "stream",
     "text": [
      "tensor([[0.6026, 0.7163, 0.6850, 0.5368],\n",
      "        [0.3881, 0.0375, 0.2762, 0.6890],\n",
      "        [0.3923, 0.1720, 0.2166, 0.1471]])\n",
      "Datatype of tensor: torch.float32 \n",
      "Device tensor is stored on: cpu \n",
      "Size of tensor: torch.Size([3, 4]) \n"
     ]
    }
   ],
   "source": [
    "some_tensor = torch.rand(3,4)\n",
    "print(some_tensor)\n",
    "print(f\"Datatype of tensor: {some_tensor.dtype} \")\n",
    "print(f\"Device tensor is stored on: {some_tensor.device} \")\n",
    "print(f\"Size of tensor: {some_tensor.size()} \")\n",
    "# some_tensor = some_tensor.to(\"cuda\")\n",
    "# print(f\"Device tensor is stored on: {some_tensor.device} \")\n"
   ]
  },
  {
   "cell_type": "markdown",
   "metadata": {},
   "source": [
    "## Tensor Operations\n",
    "\n",
    "Addition\n",
    "Subtraction\n",
    "Multiplication\n",
    "Division\n",
    "Matrix Multiplication"
   ]
  },
  {
   "cell_type": "code",
   "execution_count": 16,
   "metadata": {},
   "outputs": [
    {
     "data": {
      "text/plain": [
       "tensor([[14, 32],\n",
       "        [32, 77]])"
      ]
     },
     "execution_count": 16,
     "metadata": {},
     "output_type": "execute_result"
    }
   ],
   "source": [
    "\n",
    "tensor = torch.tensor([1,2,3])\n",
    "tensor + 100 # tensor([101, 102, 103])\n",
    "tensor * 10 # tensor([10, 20, 30])\n",
    "tensor - 10 # tensor([-9, -8, -7])\n",
    "tensor / 10 # tensor([0.1000, 0.2000, 0.3000])\n",
    "tensor // 10 # tensor([0, 0, 0])\n",
    "tensor ** 2 # tensor([1, 4, 9]) \n",
    "tensor.matmul(tensor) # tensor(14)\n",
    "second_tensor = torch.tensor([[1,2,3],[4,5,6]])\n",
    "second_tensor.matmul(second_tensor.T) # tensor([[14, 32],"
   ]
  },
  {
   "cell_type": "code",
   "execution_count": 17,
   "metadata": {},
   "outputs": [
    {
     "name": "stdout",
     "output_type": "stream",
     "text": [
      "tensor(14)\n",
      "CPU times: user 746 μs, sys: 1.2 ms, total: 1.95 ms\n",
      "Wall time: 1.75 ms\n"
     ]
    }
   ],
   "source": [
    "%%time\n",
    "value = 0\n",
    "for i in range(len(tensor)):\n",
    "    value += tensor[i] * tensor[i]\n",
    "print(value)"
   ]
  },
  {
   "cell_type": "code",
   "execution_count": 18,
   "metadata": {},
   "outputs": [
    {
     "name": "stdout",
     "output_type": "stream",
     "text": [
      "CPU times: user 56 μs, sys: 40 μs, total: 96 μs\n",
      "Wall time: 84.9 μs\n"
     ]
    },
    {
     "data": {
      "text/plain": [
       "tensor(14)"
      ]
     },
     "execution_count": 18,
     "metadata": {},
     "output_type": "execute_result"
    }
   ],
   "source": [
    "%%time\n",
    "tensor.matmul(tensor)"
   ]
  },
  {
   "cell_type": "code",
   "execution_count": 19,
   "metadata": {},
   "outputs": [
    {
     "data": {
      "text/plain": [
       "tensor([[1, 3, 5],\n",
       "        [2, 4, 6]])"
      ]
     },
     "execution_count": 19,
     "metadata": {},
     "output_type": "execute_result"
    }
   ],
   "source": [
    "tensor_B = torch.tensor([[1,2],[3,4],[5,6]])\n",
    "tensor_B.shape # torch.Size([3, 2])\n",
    "tensor_B.T # tensor(([[1, 3, 5],\n",
    "          #        [2, 4, 6]]))\n",
    "          "
   ]
  },
  {
   "cell_type": "markdown",
   "metadata": {},
   "source": [
    "Finding the min, max, mean, sum, etc (tensor aggregation)"
   ]
  },
  {
   "cell_type": "code",
   "execution_count": 20,
   "metadata": {},
   "outputs": [
    {
     "data": {
      "text/plain": [
       "tensor(0)"
      ]
     },
     "execution_count": 20,
     "metadata": {},
     "output_type": "execute_result"
    }
   ],
   "source": [
    "x = torch.arange(0,100,10)\n",
    "x # tensor([ 0, 10, 20, 30, 40, 50, 60, 70, 80, 90])\n",
    "\n",
    "torch.min(x) # tensor(0)\n",
    "torch.max(x) # tensor(90)\n",
    "x.min() # tensor(0)\n",
    "x.max() # tensor(90)\n",
    "x.dtype  # torch.int64\n",
    "x = x.to(dtype=torch.float32) # need to do otherwise will get error\n",
    "torch.mean(x)  # tensor(45.)\n",
    "torch.argmax(x) # tensor(9)\n",
    "torch.argmin(x) # tensor(0)\n"
   ]
  },
  {
   "cell_type": "code",
   "execution_count": 21,
   "metadata": {},
   "outputs": [
    {
     "data": {
      "text/plain": [
       "tensor(5)"
      ]
     },
     "execution_count": 21,
     "metadata": {},
     "output_type": "execute_result"
    }
   ],
   "source": [
    "y = torch.tensor([[1,2,3],[3,5,7]])\n",
    "y.shape\n",
    "y[1][2]\n",
    "y.argmax() # tensor(5)"
   ]
  },
  {
   "cell_type": "markdown",
   "metadata": {},
   "source": [
    "## Resharping, stacking, shaping, and unsqueezing tensors\n",
    "\n",
    "* Reshaping - reshapes an input tensor to a defined shape\n",
    "* View - Return a view of an input tensor of certain shape but keep the same memory as the original tensor\n",
    "* Stacking - combine multiple tensors on top of each other (vstack) or side by side (hstack)\n",
    "* Squeeze - removes all `1` dimensions from a tesnor\n",
    "* Unsqueeze - adds a `1` dimension to a target tensor\n",
    "* Permute - Return a view of the input with dimensions permuted (swapped) in a certan way"
   ]
  },
  {
   "cell_type": "code",
   "execution_count": 22,
   "metadata": {},
   "outputs": [
    {
     "data": {
      "text/plain": [
       "tensor([[[1, 2, 3],\n",
       "         [1, 2, 3]],\n",
       "\n",
       "        [[3, 5, 7],\n",
       "         [3, 5, 7]],\n",
       "\n",
       "        [[1, 2, 3],\n",
       "         [1, 2, 3]],\n",
       "\n",
       "        [[3, 5, 7],\n",
       "         [3, 5, 7]]])"
      ]
     },
     "execution_count": 22,
     "metadata": {},
     "output_type": "execute_result"
    }
   ],
   "source": [
    "x = torch.tensor([1,2,3,4,5])\n",
    "x.ndim # 1\n",
    "x.shape # torch.Size([5])\n",
    "x.reshape(5) # tensor([1, 2, 3, 4, 5])\n",
    "x.reshape(1,5) # tensor([[1, 2, 3, 4, 5]])\n",
    "x.reshape(5,1) # tensor([[1],\n",
    "            #         [2],\n",
    "            #         [3],\n",
    "            #         [4],\n",
    "            #         [5]])\n",
    "            \n",
    "z = torch.stack((x,x),dim=0)\n",
    "z # tensor([[1, 2, 3, 4, 5],\n",
    "    #       [1, 2, 3, 4, 5]])\n",
    "z.shape # torch.Size([2, 5])\n",
    "\n",
    "y = torch.stack((y,y),dim=1)\n",
    "y # tensor([[[1, 2, 3],\n",
    "    #         [1, 2, 3]],\n",
    "    #        [[3, 5, 7],\n",
    "    #         [3, 5, 7]]])\n",
    "     # \n",
    "torch.hstack((y,y)) # basically torch.stack with dim = 0\n",
    "torch.vstack((y,y)) # basically torch.stack with dim = 1"
   ]
  },
  {
   "cell_type": "code",
   "execution_count": 23,
   "metadata": {},
   "outputs": [
    {
     "data": {
      "text/plain": [
       "tensor([[0.],\n",
       "        [0.],\n",
       "        [0.],\n",
       "        [0.],\n",
       "        [0.],\n",
       "        [0.],\n",
       "        [0.],\n",
       "        [0.],\n",
       "        [0.]])"
      ]
     },
     "execution_count": 23,
     "metadata": {},
     "output_type": "execute_result"
    }
   ],
   "source": [
    "x =torch.zeros(2,1,2,1,2)\n",
    "x.shape # torch.Size([2, 1, 2, 1, 2])\n",
    "x.squeeze() \n",
    "x.squeeze().shape  # torch.Size([2, 2, 2])\n",
    "\n",
    "x= torch.zeros(9)\n",
    "x.shape # torch.Size([9])\n",
    "x.unsqueeze(dim=0).shape # torch.Size([1, 9])\n",
    "x.unsqueeze(dim=1).shape # torch.Size([9, 1])\n",
    "x.unsqueeze(dim=1) # tensor([[0.], 9 times vertically\n",
    "\n"
   ]
  },
  {
   "cell_type": "code",
   "execution_count": 24,
   "metadata": {},
   "outputs": [
    {
     "name": "stdout",
     "output_type": "stream",
     "text": [
      "tensor([[[0.0769, 0.2838, 0.2422],\n",
      "         [0.7131, 0.6144, 0.6116],\n",
      "         [0.8841, 0.8945, 0.3983],\n",
      "         ...,\n",
      "         [0.5513, 0.6059, 0.8113],\n",
      "         [0.8052, 0.1604, 0.1760],\n",
      "         [0.3105, 0.3307, 0.6721]],\n",
      "\n",
      "        [[0.1745, 0.6262, 0.7358],\n",
      "         [0.5018, 0.5554, 0.0145],\n",
      "         [0.1912, 0.4810, 0.9744],\n",
      "         ...,\n",
      "         [0.0899, 0.2878, 0.8853],\n",
      "         [0.1985, 0.9843, 0.9216],\n",
      "         [0.8299, 0.8185, 0.9451]],\n",
      "\n",
      "        [[0.1554, 0.7938, 0.9962],\n",
      "         [0.5688, 0.2051, 0.3571],\n",
      "         [0.6356, 0.0706, 0.7824],\n",
      "         ...,\n",
      "         [0.7200, 0.1010, 0.3962],\n",
      "         [0.2641, 0.6255, 0.4018],\n",
      "         [0.2408, 0.3225, 0.1327]],\n",
      "\n",
      "        ...,\n",
      "\n",
      "        [[0.1172, 0.4125, 0.8656],\n",
      "         [0.1549, 0.9689, 0.6441],\n",
      "         [0.9149, 0.7367, 0.3209],\n",
      "         ...,\n",
      "         [0.2930, 0.1754, 0.3309],\n",
      "         [0.3443, 0.5968, 0.0097],\n",
      "         [0.9593, 0.2275, 0.4052]],\n",
      "\n",
      "        [[0.7639, 0.8430, 0.5583],\n",
      "         [0.0674, 0.3092, 0.6111],\n",
      "         [0.5146, 0.7952, 0.1720],\n",
      "         ...,\n",
      "         [0.7811, 0.6274, 0.2345],\n",
      "         [0.1652, 0.5696, 0.3174],\n",
      "         [0.8805, 0.8039, 0.9199]],\n",
      "\n",
      "        [[0.3115, 0.2404, 0.3359],\n",
      "         [0.6567, 0.9347, 0.3057],\n",
      "         [0.3286, 0.5883, 0.4619],\n",
      "         ...,\n",
      "         [0.0022, 0.5738, 0.1146],\n",
      "         [0.8075, 0.5024, 0.2012],\n",
      "         [0.2111, 0.6389, 0.6962]]])\n",
      "tensor([[[0.0769, 0.7131, 0.8841,  ..., 0.5513, 0.8052, 0.3105],\n",
      "         [0.1745, 0.5018, 0.1912,  ..., 0.0899, 0.1985, 0.8299],\n",
      "         [0.1554, 0.5688, 0.6356,  ..., 0.7200, 0.2641, 0.2408],\n",
      "         ...,\n",
      "         [0.1172, 0.1549, 0.9149,  ..., 0.2930, 0.3443, 0.9593],\n",
      "         [0.7639, 0.0674, 0.5146,  ..., 0.7811, 0.1652, 0.8805],\n",
      "         [0.3115, 0.6567, 0.3286,  ..., 0.0022, 0.8075, 0.2111]],\n",
      "\n",
      "        [[0.2838, 0.6144, 0.8945,  ..., 0.6059, 0.1604, 0.3307],\n",
      "         [0.6262, 0.5554, 0.4810,  ..., 0.2878, 0.9843, 0.8185],\n",
      "         [0.7938, 0.2051, 0.0706,  ..., 0.1010, 0.6255, 0.3225],\n",
      "         ...,\n",
      "         [0.4125, 0.9689, 0.7367,  ..., 0.1754, 0.5968, 0.2275],\n",
      "         [0.8430, 0.3092, 0.7952,  ..., 0.6274, 0.5696, 0.8039],\n",
      "         [0.2404, 0.9347, 0.5883,  ..., 0.5738, 0.5024, 0.6389]],\n",
      "\n",
      "        [[0.2422, 0.6116, 0.3983,  ..., 0.8113, 0.1760, 0.6721],\n",
      "         [0.7358, 0.0145, 0.9744,  ..., 0.8853, 0.9216, 0.9451],\n",
      "         [0.9962, 0.3571, 0.7824,  ..., 0.3962, 0.4018, 0.1327],\n",
      "         ...,\n",
      "         [0.8656, 0.6441, 0.3209,  ..., 0.3309, 0.0097, 0.4052],\n",
      "         [0.5583, 0.6111, 0.1720,  ..., 0.2345, 0.3174, 0.9199],\n",
      "         [0.3359, 0.3057, 0.4619,  ..., 0.1146, 0.2012, 0.6962]]])\n"
     ]
    }
   ],
   "source": [
    "x_original = torch.rand(size=(224,224,3))\n",
    "x_original.shape # torch.Size([224, 224, 3])\n",
    "print(x_original)\n",
    "# Permute the original tensor to rearrange the axis (or dim)\n",
    "x_permuted = x_original.permute(2,0,1) # change axis 0 to 2, 1 to 0, 2 to 1\n",
    "x_permuted.shape # torch.Size([3, 224, 224])\n",
    "print(x_permuted)"
   ]
  },
  {
   "cell_type": "markdown",
   "metadata": {},
   "source": [
    "## Indexing (selecting data from tensors)\n",
    "\n",
    "Indexing with PyTorch is similar to indexing with NumPy"
   ]
  },
  {
   "cell_type": "code",
   "execution_count": 25,
   "metadata": {},
   "outputs": [
    {
     "data": {
      "text/plain": [
       "tensor([[[1, 2, 3],\n",
       "         [4, 5, 6],\n",
       "         [7, 8, 9]]])"
      ]
     },
     "execution_count": 25,
     "metadata": {},
     "output_type": "execute_result"
    }
   ],
   "source": [
    "x = torch.arange(1,10).reshape(1,3,3)\n",
    "x"
   ]
  },
  {
   "cell_type": "code",
   "execution_count": 34,
   "metadata": {},
   "outputs": [
    {
     "data": {
      "text/plain": [
       "array([1., 1., 1., 1., 1., 1., 1., 1., 1.], dtype=float32)"
      ]
     },
     "execution_count": 34,
     "metadata": {},
     "output_type": "execute_result"
    }
   ],
   "source": [
    "arr = np.arange(1,0,8.0)\n",
    "tensor = torch.from_numpy(arr) # convert numpy array to tensor, numpy default dtype is float64 while torch is float32 \n",
    "\n",
    "tensor = torch.ones(9)\n",
    "tensor.numpy() # convert tensor to numpy array"
   ]
  },
  {
   "cell_type": "code",
   "execution_count": null,
   "metadata": {},
   "outputs": [],
   "source": []
  }
 ],
 "metadata": {
  "kernelspec": {
   "display_name": "Python (base)",
   "language": "python",
   "name": "base"
  },
  "language_info": {
   "codemirror_mode": {
    "name": "ipython",
    "version": 3
   },
   "file_extension": ".py",
   "mimetype": "text/x-python",
   "name": "python",
   "nbconvert_exporter": "python",
   "pygments_lexer": "ipython3",
   "version": "3.12.8"
  }
 },
 "nbformat": 4,
 "nbformat_minor": 4
}
