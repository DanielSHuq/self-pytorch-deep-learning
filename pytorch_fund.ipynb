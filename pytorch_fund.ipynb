{
 "cells": [
  {
   "cell_type": "code",
   "execution_count": 2,
   "metadata": {},
   "outputs": [
    {
     "name": "stdout",
     "output_type": "stream",
     "text": [
      "2.5.1\n"
     ]
    }
   ],
   "source": [
    "import torch\n",
    "import pandas as pd\n",
    "import numpy as np\n",
    "import matplotlib.pyplot as plt\n",
    "print(torch.__version__)"
   ]
  },
  {
   "cell_type": "markdown",
   "metadata": {},
   "source": [
    "Introduction to Tensors\n",
    "\n",
    "Pytorch tensors are created using torch.tensor()"
   ]
  },
  {
   "cell_type": "code",
   "execution_count": 3,
   "metadata": {},
   "outputs": [
    {
     "data": {
      "text/plain": [
       "torch.Size([])"
      ]
     },
     "execution_count": 3,
     "metadata": {},
     "output_type": "execute_result"
    }
   ],
   "source": [
    "# scalar\n",
    "\n",
    "scalar = torch.tensor(7)\n",
    "scalar.ndim # 0\n",
    "scalar.shape # torch.Size([])"
   ]
  },
  {
   "cell_type": "code",
   "execution_count": 4,
   "metadata": {},
   "outputs": [
    {
     "data": {
      "text/plain": [
       "7"
      ]
     },
     "execution_count": 4,
     "metadata": {},
     "output_type": "execute_result"
    }
   ],
   "source": [
    "# Get tensor back as Python int\n",
    "scalar.item() # 7"
   ]
  },
  {
   "cell_type": "code",
   "execution_count": 5,
   "metadata": {},
   "outputs": [
    {
     "data": {
      "text/plain": [
       "torch.Size([2])"
      ]
     },
     "execution_count": 5,
     "metadata": {},
     "output_type": "execute_result"
    }
   ],
   "source": [
    "# Vector\n",
    "vector = torch.tensor([7,7])\n",
    "vector # tensor([7, 7])\n",
    "\n",
    "vector.ndim # 1\n",
    "vector.shape # torch.Size([2])"
   ]
  },
  {
   "cell_type": "code",
   "execution_count": 6,
   "metadata": {},
   "outputs": [
    {
     "data": {
      "text/plain": [
       "torch.Size([2, 2])"
      ]
     },
     "execution_count": 6,
     "metadata": {},
     "output_type": "execute_result"
    }
   ],
   "source": [
    "# MATRIX\n",
    "\n",
    "matrix = torch.tensor([[7,8],[9,10]])\n",
    "matrix.ndim # 2\n",
    "matrix[1] # tensor([ 9, 10])\n",
    "matrix.shape # torch.Size([2, 2])\n",
    "# normally write matrix and tensors in capital letters for variables\n",
    "\n",
    "MATRIX = torch.tensor([[7,8],[9,10]])\n",
    "MATRIX.ndim # 2\n",
    "MATRIX[1] # tensor([ 9, 10])\n",
    "MATRIX.shape # torch.Size([2, 2])"
   ]
  },
  {
   "cell_type": "code",
   "execution_count": 7,
   "metadata": {},
   "outputs": [
    {
     "data": {
      "text/plain": [
       "tensor([[1, 2, 3],\n",
       "        [4, 5, 6],\n",
       "        [7, 8, 9]])"
      ]
     },
     "execution_count": 7,
     "metadata": {},
     "output_type": "execute_result"
    }
   ],
   "source": [
    "# tensor\n",
    "TENSOR = torch.tensor([[[1,2,3],[4,5,6],[7,8,9]]])\n",
    "TENSOR.ndim # 3\n",
    "TENSOR.shape # torch.Size([1, 3, 3])\n",
    "TENSOR[0] # tensor([[1, 2, 3],\n",
    "          #        [4, 5, 6],\n",
    "          #        [7, 8, 9]])\n",
    "# tensor[1]  IndexError: index 1 is out of bounds for dimension 0 with size 1"
   ]
  },
  {
   "cell_type": "markdown",
   "metadata": {},
   "source": [
    "### Random Tensors\n",
    "\n",
    "Neural networks often begin with tensors filled with random numbers and then adjust them to fit the data.\n",
    "\n",
    "`Start with random numbers -> look at data -> update random numbers -> look at data -> update random numbers`"
   ]
  },
  {
   "cell_type": "code",
   "execution_count": 8,
   "metadata": {},
   "outputs": [
    {
     "data": {
      "text/plain": [
       "tensor([[0.4935, 0.0987, 0.0935, 0.3964],\n",
       "        [0.1860, 0.7529, 0.5627, 0.9852],\n",
       "        [0.2751, 0.1639, 0.4882, 0.6674]])"
      ]
     },
     "execution_count": 8,
     "metadata": {},
     "output_type": "execute_result"
    }
   ],
   "source": [
    "# Create a random tensor of size (3,4)\n",
    "R_T = torch.rand(3,4)\n",
    "R_T.shape # torch.Size([3, 4])\n",
    "R_T.ndim # 2\n",
    "R_T"
   ]
  },
  {
   "cell_type": "code",
   "execution_count": 9,
   "metadata": {},
   "outputs": [
    {
     "data": {
      "text/plain": [
       "tensor([[[1.1656e-01, 6.8627e-01, 1.0596e-01,  ..., 8.2768e-01,\n",
       "          4.0763e-01, 1.9636e-01],\n",
       "         [9.9665e-01, 7.9570e-01, 7.5745e-01,  ..., 4.4081e-01,\n",
       "          4.9233e-01, 9.2068e-02],\n",
       "         [9.0261e-01, 7.6226e-01, 3.8261e-02,  ..., 1.4087e-01,\n",
       "          1.5726e-01, 6.1302e-01],\n",
       "         ...,\n",
       "         [1.3226e-01, 9.7331e-01, 4.3349e-01,  ..., 2.5380e-01,\n",
       "          7.1695e-01, 5.1545e-01],\n",
       "         [6.4336e-01, 2.8480e-02, 9.3198e-01,  ..., 4.6310e-01,\n",
       "          5.7243e-01, 9.1721e-01],\n",
       "         [2.9696e-01, 9.8824e-01, 5.4416e-01,  ..., 2.0485e-01,\n",
       "          6.7732e-01, 1.6889e-01]],\n",
       "\n",
       "        [[4.4785e-01, 2.4636e-02, 9.1867e-01,  ..., 5.9223e-01,\n",
       "          6.5587e-02, 5.7424e-01],\n",
       "         [6.9100e-01, 5.4247e-01, 1.4455e-01,  ..., 1.6657e-01,\n",
       "          9.3675e-01, 1.7715e-01],\n",
       "         [6.6416e-01, 6.7544e-01, 6.2591e-01,  ..., 6.6656e-01,\n",
       "          5.5365e-01, 8.0216e-01],\n",
       "         ...,\n",
       "         [8.5289e-01, 9.3950e-01, 4.6347e-01,  ..., 7.8344e-01,\n",
       "          3.4169e-01, 4.3877e-01],\n",
       "         [8.8565e-01, 7.5600e-01, 3.6936e-01,  ..., 6.6109e-01,\n",
       "          7.1046e-01, 8.1009e-01],\n",
       "         [1.1761e-01, 6.0545e-01, 8.4605e-01,  ..., 8.9548e-01,\n",
       "          5.9528e-01, 5.5002e-01]],\n",
       "\n",
       "        [[5.3225e-01, 9.6530e-01, 5.6260e-01,  ..., 5.4847e-01,\n",
       "          1.8070e-01, 1.7322e-01],\n",
       "         [1.8968e-01, 5.2667e-01, 6.6261e-01,  ..., 8.6585e-01,\n",
       "          4.4295e-01, 6.7921e-01],\n",
       "         [5.6750e-01, 6.8912e-01, 7.4752e-01,  ..., 2.2328e-01,\n",
       "          3.4101e-01, 2.9928e-01],\n",
       "         ...,\n",
       "         [9.3684e-01, 8.0709e-03, 1.8259e-01,  ..., 9.8036e-01,\n",
       "          4.0758e-04, 1.2282e-01],\n",
       "         [7.6468e-01, 6.8169e-02, 8.1957e-02,  ..., 7.9404e-01,\n",
       "          5.9598e-01, 4.7755e-01],\n",
       "         [7.4433e-01, 1.7003e-01, 5.6260e-01,  ..., 5.1922e-01,\n",
       "          2.7519e-01, 4.4299e-01]]])"
      ]
     },
     "execution_count": 9,
     "metadata": {},
     "output_type": "execute_result"
    }
   ],
   "source": [
    "rand_image_tensor = torch.rand(3,224,244)\n",
    "rand_image_tensor.shape # torch.Size([224, 224, 3])\n",
    "rand_image_tensor.ndim # 3\n",
    "rand_image_tensor   "
   ]
  },
  {
   "cell_type": "markdown",
   "metadata": {},
   "source": []
  },
  {
   "cell_type": "code",
   "execution_count": 10,
   "metadata": {},
   "outputs": [
    {
     "data": {
      "text/plain": [
       "tensor([[0., 0., 0., 0.],\n",
       "        [0., 0., 0., 0.],\n",
       "        [0., 0., 0., 0.]])"
      ]
     },
     "execution_count": 10,
     "metadata": {},
     "output_type": "execute_result"
    }
   ],
   "source": [
    "# Create a tensor with all zeros\n",
    "ZEROS = torch.zeros(3,4)\n",
    "ZEROS.dtype # torch.float32\n",
    "ZEROS"
   ]
  },
  {
   "cell_type": "code",
   "execution_count": 11,
   "metadata": {},
   "outputs": [
    {
     "data": {
      "text/plain": [
       "tensor([[1., 1., 1., 1.],\n",
       "        [1., 1., 1., 1.],\n",
       "        [1., 1., 1., 1.]])"
      ]
     },
     "execution_count": 11,
     "metadata": {},
     "output_type": "execute_result"
    }
   ],
   "source": [
    "# Create a tensor with all ones\n",
    "\n",
    "ONES = torch.ones(3,4)\n",
    "ONES.dtype # torch.float32\n",
    "ONES"
   ]
  },
  {
   "cell_type": "code",
   "execution_count": 12,
   "metadata": {},
   "outputs": [
    {
     "data": {
      "text/plain": [
       "tensor([1, 1, 1, 1, 1, 1, 1, 1, 1, 1])"
      ]
     },
     "execution_count": 12,
     "metadata": {},
     "output_type": "execute_result"
    }
   ],
   "source": [
    "# Use torch.arange()\n",
    "\n",
    "range_tensor = torch.arange(1,11)\n",
    "range_tensor # tensor([ 1,  2,  3,  4,  5,  6,  7,  8,  9, 10])\n",
    "\n",
    "step_range_tensor = torch.arange(1,11,2)\n",
    "step_range_tensor # tensor([1, 3, 5, 7, 9])\n",
    "\n",
    "one_to_thousand_step_77 = torch.arange(1,1001,77)\n",
    "one_to_thousand_step_77 # tensor([  1,  78, 155, 232, 309, 386, 463, 540, 617, 694, 771, 848, 925])\n",
    "\n",
    "zero_range_tensors = torch.zeros_like(range_tensor)\n",
    "zero_range_tensors # tensor([0, 0, 0, 0, 0, 0, 0, 0, 0, 0])\n",
    "\n",
    "one_range_tensors = torch.ones_like(range_tensor)\n",
    "one_range_tensors # tensor([1, 1, 1, 1, 1, 1, 1, 1, 1, 1])\n"
   ]
  },
  {
   "cell_type": "markdown",
   "metadata": {},
   "source": [
    "### Tensor Datatypes\n",
    "\n",
    "**Note** Tensor datatypes is one of the three big errors you'll run into with PyTorch & Deep learning:\n"
   ]
  },
  {
   "cell_type": "code",
   "execution_count": 13,
   "metadata": {},
   "outputs": [
    {
     "data": {
      "text/plain": [
       "torch.float64"
      ]
     },
     "execution_count": 13,
     "metadata": {},
     "output_type": "execute_result"
    }
   ],
   "source": [
    "float_32_tensor = torch.tensor([3.0,6.0,9.0]) # default dtype is float32\n",
    "float_32_tensor.dtype # torch.float32\n",
    "\n",
    "tensor_param_showcase = torch.tensor(data=[3.0,6.0,9.0],dtype=torch.float64,\n",
    "                                     # device='none',\n",
    "                                     # requires_grad means if you want to track gradients for tensor operations\n",
    "                                     requires_grad=False)\n",
    "float_64_tensor = torch.tensor([3.0,6.0,9.0],dtype=torch.float64)\n",
    "float_64_tensor.dtype # torch.float64"
   ]
  },
  {
   "cell_type": "code",
   "execution_count": 14,
   "metadata": {},
   "outputs": [
    {
     "data": {
      "text/plain": [
       "torch.float32"
      ]
     },
     "execution_count": 14,
     "metadata": {},
     "output_type": "execute_result"
    }
   ],
   "source": [
    "float_16_tensor = float_32_tensor.type(torch.float16) # convert float32 to float16\n",
    "test_tensor =float_16_tensor * float_32_tensor # tensor([ 9., 36., 81.], dtype=torch.float16)\n",
    "test_tensor.dtype"
   ]
  },
  {
   "cell_type": "code",
   "execution_count": 15,
   "metadata": {},
   "outputs": [
    {
     "name": "stdout",
     "output_type": "stream",
     "text": [
      "tensor([[0.9192, 0.0100, 0.8376, 0.7011],\n",
      "        [0.9057, 0.7593, 0.2468, 0.8945],\n",
      "        [0.7407, 0.8737, 0.3499, 0.0276]])\n",
      "Datatype of tensor: torch.float32 \n",
      "Device tensor is stored on: cpu \n",
      "Size of tensor: torch.Size([3, 4]) \n"
     ]
    }
   ],
   "source": [
    "some_tensor = torch.rand(3,4)\n",
    "print(some_tensor)\n",
    "print(f\"Datatype of tensor: {some_tensor.dtype} \")\n",
    "print(f\"Device tensor is stored on: {some_tensor.device} \")\n",
    "print(f\"Size of tensor: {some_tensor.size()} \")\n",
    "# some_tensor = some_tensor.to(\"cuda\")\n",
    "# print(f\"Device tensor is stored on: {some_tensor.device} \")\n"
   ]
  },
  {
   "cell_type": "markdown",
   "metadata": {},
   "source": [
    "## Tensor Operations\n",
    "\n",
    "Addition\n",
    "Subtraction\n",
    "Multiplication\n",
    "Division\n",
    "Matrix Multiplication"
   ]
  },
  {
   "cell_type": "code",
   "execution_count": 16,
   "metadata": {},
   "outputs": [
    {
     "data": {
      "text/plain": [
       "tensor([[14, 32],\n",
       "        [32, 77]])"
      ]
     },
     "execution_count": 16,
     "metadata": {},
     "output_type": "execute_result"
    }
   ],
   "source": [
    "\n",
    "tensor = torch.tensor([1,2,3])\n",
    "tensor + 100 # tensor([101, 102, 103])\n",
    "tensor * 10 # tensor([10, 20, 30])\n",
    "tensor - 10 # tensor([-9, -8, -7])\n",
    "tensor / 10 # tensor([0.1000, 0.2000, 0.3000])\n",
    "tensor // 10 # tensor([0, 0, 0])\n",
    "tensor ** 2 # tensor([1, 4, 9]) \n",
    "tensor.matmul(tensor) # tensor(14)\n",
    "second_tensor = torch.tensor([[1,2,3],[4,5,6]])\n",
    "second_tensor.matmul(second_tensor.T) # tensor([[14, 32],"
   ]
  },
  {
   "cell_type": "code",
   "execution_count": 17,
   "metadata": {},
   "outputs": [
    {
     "name": "stdout",
     "output_type": "stream",
     "text": [
      "tensor(14)\n",
      "CPU times: user 813 μs, sys: 1.07 ms, total: 1.89 ms\n",
      "Wall time: 1.56 ms\n"
     ]
    }
   ],
   "source": [
    "%%time\n",
    "value = 0\n",
    "for i in range(len(tensor)):\n",
    "    value += tensor[i] * tensor[i]\n",
    "print(value)"
   ]
  },
  {
   "cell_type": "code",
   "execution_count": 18,
   "metadata": {},
   "outputs": [
    {
     "name": "stdout",
     "output_type": "stream",
     "text": [
      "CPU times: user 20 μs, sys: 5 μs, total: 25 μs\n",
      "Wall time: 24.1 μs\n"
     ]
    },
    {
     "data": {
      "text/plain": [
       "tensor(14)"
      ]
     },
     "execution_count": 18,
     "metadata": {},
     "output_type": "execute_result"
    }
   ],
   "source": [
    "%%time\n",
    "tensor.matmul(tensor)"
   ]
  },
  {
   "cell_type": "code",
   "execution_count": 19,
   "metadata": {},
   "outputs": [
    {
     "data": {
      "text/plain": [
       "tensor([[1, 3, 5],\n",
       "        [2, 4, 6]])"
      ]
     },
     "execution_count": 19,
     "metadata": {},
     "output_type": "execute_result"
    }
   ],
   "source": [
    "tensor_B = torch.tensor([[1,2],[3,4],[5,6]])\n",
    "tensor_B.shape # torch.Size([3, 2])\n",
    "tensor_B.T # tensor(([[1, 3, 5],\n",
    "          #        [2, 4, 6]]))\n",
    "          "
   ]
  },
  {
   "cell_type": "markdown",
   "metadata": {},
   "source": [
    "Finding the min, max, mean, sum, etc (tensor aggregation)"
   ]
  },
  {
   "cell_type": "code",
   "execution_count": 26,
   "metadata": {},
   "outputs": [
    {
     "data": {
      "text/plain": [
       "0"
      ]
     },
     "execution_count": 26,
     "metadata": {},
     "output_type": "execute_result"
    }
   ],
   "source": [
    "x = torch.arange(0,100,10)\n",
    "x # tensor([ 0, 10, 20, 30, 40, 50, 60, 70, 80, 90])\n",
    "\n",
    "torch.min(x) # tensor(0)\n",
    "torch.max(x) # tensor(90)\n",
    "x.min() # tensor(0)\n",
    "x.max() # tensor(90)\n",
    "x.dtype  # torch.int64\n",
    "x = x.to(dtype=torch.float32) # need to do otherwise will get error\n",
    "torch.mean(x)  # tensor(45.)\n",
    "torch.argmax(x) # tensor(9)\n",
    "torch.argmin(x) # tensor(0)\n"
   ]
  },
  {
   "cell_type": "code",
   "execution_count": 34,
   "metadata": {},
   "outputs": [
    {
     "data": {
      "text/plain": [
       "tensor(5)"
      ]
     },
     "execution_count": 34,
     "metadata": {},
     "output_type": "execute_result"
    }
   ],
   "source": [
    "y = torch.tensor([[1,2,3],[3,5,7]])\n",
    "y.shape\n",
    "y[1][2]\n",
    "y.argmax() # tensor(5)"
   ]
  },
  {
   "cell_type": "markdown",
   "metadata": {},
   "source": [
    "## Resharping, stacking, shaping, and unsqueezing tensors\n",
    "\n",
    "* Reshaping - reshapes an input tensor to a defined shape\n",
    "* View - Return a view of an input tensor of certain shape but keep the same memory as the original tensor\n",
    "* Stacking - combine multiple tensors on top of each other (vstack) or side by side (hstack)\n",
    "* Squeeze - removes all `1` dimensions from a tesnor\n",
    "* Unsqueeze - adds a `1` dimension to a target tensor\n",
    "* Permute - Return a view of the input with dimensions permuted (swapped) in a certan way"
   ]
  },
  {
   "cell_type": "code",
   "execution_count": null,
   "metadata": {},
   "outputs": [],
   "source": []
  }
 ],
 "metadata": {
  "kernelspec": {
   "display_name": "Python (base)",
   "language": "python",
   "name": "base"
  },
  "language_info": {
   "codemirror_mode": {
    "name": "ipython",
    "version": 3
   },
   "file_extension": ".py",
   "mimetype": "text/x-python",
   "name": "python",
   "nbconvert_exporter": "python",
   "pygments_lexer": "ipython3",
   "version": "3.12.8"
  }
 },
 "nbformat": 4,
 "nbformat_minor": 4
}
