{
 "cells": [
  {
   "cell_type": "code",
   "execution_count": 2,
   "metadata": {},
   "outputs": [
    {
     "name": "stdout",
     "output_type": "stream",
     "text": [
      "2.5.1\n"
     ]
    }
   ],
   "source": [
    "import torch\n",
    "import pandas as pd\n",
    "import numpy as np\n",
    "import matplotlib.pyplot as plt\n",
    "print(torch.__version__)"
   ]
  },
  {
   "cell_type": "markdown",
   "metadata": {},
   "source": [
    "Introduction to Tensors\n",
    "\n",
    "Pytorch tensors are created using torch.tensor()\n"
   ]
  },
  {
   "cell_type": "code",
   "execution_count": 5,
   "metadata": {},
   "outputs": [
    {
     "data": {
      "text/plain": [
       "0"
      ]
     },
     "execution_count": 5,
     "metadata": {},
     "output_type": "execute_result"
    }
   ],
   "source": [
    "# scalar\n",
    "\n",
    "scalar = torch.tensor(7)\n",
    "scalar.ndim # 0\n",
    "scalar.shape # torch.Size([])"
   ]
  },
  {
   "cell_type": "code",
   "execution_count": 6,
   "metadata": {},
   "outputs": [
    {
     "data": {
      "text/plain": [
       "7"
      ]
     },
     "execution_count": 6,
     "metadata": {},
     "output_type": "execute_result"
    }
   ],
   "source": [
    "# Get tensor back as Python int\n",
    "scalar.item() # 7"
   ]
  },
  {
   "cell_type": "code",
   "execution_count": 8,
   "metadata": {},
   "outputs": [
    {
     "data": {
      "text/plain": [
       "torch.Size([2])"
      ]
     },
     "execution_count": 8,
     "metadata": {},
     "output_type": "execute_result"
    }
   ],
   "source": [
    "# Vector\n",
    "vector = torch.tensor([7,7])\n",
    "vector # tensor([7, 7])\n",
    "\n",
    "vector.ndim # 1\n",
    "vector.shape # torch.Size([2])"
   ]
  },
  {
   "cell_type": "code",
   "execution_count": 9,
   "metadata": {},
   "outputs": [],
   "source": [
    "# MATRIX\n",
    "\n",
    "matrix = torch.tensor([[7,8],[9,10]])\n",
    "matrix.ndim # 2\n",
    "matrix[1] # tensor([ 9, 10])\n",
    "matrix.shape # torch.Size([2, 2])\n",
    "# normally write matrix and tensors in capital letters for variables\n",
    "\n",
    "MATRIX = torch.tensor([[7,8],[9,10]])\n",
    "MATRIX.ndim # 2\n",
    "MATRIX[1] # tensor([ 9, 10])\n",
    "MATRIX.shape # torch.Size([2, 2])"
   ]
  },
  {
   "cell_type": "code",
   "execution_count": 12,
   "metadata": {},
   "outputs": [
    {
     "data": {
      "text/plain": [
       "tensor([[1, 2, 3],\n",
       "        [4, 5, 6],\n",
       "        [7, 8, 9]])"
      ]
     },
     "execution_count": 12,
     "metadata": {},
     "output_type": "execute_result"
    }
   ],
   "source": [
    "# tensor\n",
    "TENSOR = torch.tensor([[[1,2,3],[4,5,6],[7,8,9]]])\n",
    "TENSOR.ndim # 3\n",
    "TENSOR.shape # torch.Size([1, 3, 3])\n",
    "TENSOR[0] # tensor([[1, 2, 3],\n",
    "          #        [4, 5, 6],\n",
    "          #        [7, 8, 9]])\n",
    "# tensor[1]  IndexError: index 1 is out of bounds for dimension 0 with size 1"
   ]
  },
  {
   "cell_type": "markdown",
   "metadata": {},
   "source": [
    "### Random Tensors\n",
    "\n",
    "Neural networks often begin with tensors filled with random numbers and then adjust them to fit the data.\n",
    "\n",
    "`Start with random numbers -> look at data -> update random numbers -> look at data -> update random numbers`"
   ]
  },
  {
   "cell_type": "code",
   "execution_count": 13,
   "metadata": {},
   "outputs": [
    {
     "data": {
      "text/plain": [
       "tensor([[0.9860, 0.6767, 0.1189, 0.9057],\n",
       "        [0.6125, 0.1806, 0.4117, 0.2812],\n",
       "        [0.3918, 0.6527, 0.5354, 0.4459]])"
      ]
     },
     "execution_count": 13,
     "metadata": {},
     "output_type": "execute_result"
    }
   ],
   "source": [
    "# Create a random tensor of size (3,4)\n",
    "R_T = torch.rand(3,4)\n",
    "R_T.shape # torch.Size([3, 4])\n",
    "R_T.ndim # 2\n",
    "R_T"
   ]
  },
  {
   "cell_type": "code",
   "execution_count": 15,
   "metadata": {},
   "outputs": [
    {
     "data": {
      "text/plain": [
       "tensor([[[0.6179, 0.9990, 0.7227,  ..., 0.4224, 0.8996, 0.6188],\n",
       "         [0.7699, 0.4883, 0.6598,  ..., 0.8151, 0.3729, 0.6116],\n",
       "         [0.3880, 0.1699, 0.0942,  ..., 0.8553, 0.0906, 0.9535],\n",
       "         ...,\n",
       "         [0.7418, 0.2317, 0.2633,  ..., 0.8081, 0.3939, 0.3656],\n",
       "         [0.9128, 0.0595, 0.0134,  ..., 0.1069, 0.9977, 0.6289],\n",
       "         [0.7976, 0.8404, 0.4607,  ..., 0.8763, 0.9091, 0.3838]],\n",
       "\n",
       "        [[0.9376, 0.3583, 0.9762,  ..., 0.9835, 0.2372, 0.8074],\n",
       "         [0.6435, 0.7208, 0.2828,  ..., 0.9394, 0.0839, 0.6472],\n",
       "         [0.9472, 0.7673, 0.0788,  ..., 0.2766, 0.2609, 0.9209],\n",
       "         ...,\n",
       "         [0.5303, 0.2097, 0.9893,  ..., 0.2992, 0.3763, 0.5296],\n",
       "         [0.1207, 0.9393, 0.6784,  ..., 0.8331, 0.3911, 0.2105],\n",
       "         [0.3317, 0.3645, 0.7214,  ..., 0.3788, 0.7716, 0.6380]],\n",
       "\n",
       "        [[0.9779, 0.4969, 0.0344,  ..., 0.4729, 0.3358, 0.7497],\n",
       "         [0.6037, 0.8857, 0.5083,  ..., 0.8393, 0.1576, 0.4898],\n",
       "         [0.8105, 0.2381, 0.3994,  ..., 0.5425, 0.3232, 0.7409],\n",
       "         ...,\n",
       "         [0.9652, 0.8100, 0.1282,  ..., 0.5026, 0.1942, 0.1046],\n",
       "         [0.7352, 0.0378, 0.3015,  ..., 0.1092, 0.1109, 0.9564],\n",
       "         [0.1712, 0.0173, 0.6125,  ..., 0.7935, 0.4659, 0.3260]]])"
      ]
     },
     "execution_count": 15,
     "metadata": {},
     "output_type": "execute_result"
    }
   ],
   "source": [
    "rand_image_tensor = torch.rand(3,224,244)\n",
    "rand_image_tensor.shape # torch.Size([224, 224, 3])\n",
    "rand_image_tensor.ndim # 3\n",
    "rand_image_tensor   "
   ]
  },
  {
   "cell_type": "markdown",
   "metadata": {},
   "source": []
  },
  {
   "cell_type": "code",
   "execution_count": 17,
   "metadata": {},
   "outputs": [
    {
     "data": {
      "text/plain": [
       "tensor([[0., 0., 0., 0.],\n",
       "        [0., 0., 0., 0.],\n",
       "        [0., 0., 0., 0.]])"
      ]
     },
     "execution_count": 17,
     "metadata": {},
     "output_type": "execute_result"
    }
   ],
   "source": [
    "# Create a tensor with all zeros\n",
    "ZEROS = torch.zeros(3,4)\n",
    "ZEROS.dtype # torch.float32\n",
    "ZEROS"
   ]
  },
  {
   "cell_type": "code",
   "execution_count": 18,
   "metadata": {},
   "outputs": [
    {
     "data": {
      "text/plain": [
       "tensor([[1., 1., 1., 1.],\n",
       "        [1., 1., 1., 1.],\n",
       "        [1., 1., 1., 1.]])"
      ]
     },
     "execution_count": 18,
     "metadata": {},
     "output_type": "execute_result"
    }
   ],
   "source": [
    "# Create a tensor with all ones\n",
    "\n",
    "ONES = torch.ones(3,4)\n",
    "ONES.dtype # torch.float32\n",
    "ONES"
   ]
  },
  {
   "cell_type": "code",
   "execution_count": null,
   "metadata": {},
   "outputs": [],
   "source": []
  }
 ],
 "metadata": {
  "kernelspec": {
   "display_name": "Python (base)",
   "language": "python",
   "name": "base"
  },
  "language_info": {
   "codemirror_mode": {
    "name": "ipython",
    "version": 3
   },
   "file_extension": ".py",
   "mimetype": "text/x-python",
   "name": "python",
   "nbconvert_exporter": "python",
   "pygments_lexer": "ipython3",
   "version": "3.12.8"
  }
 },
 "nbformat": 4,
 "nbformat_minor": 4
}
