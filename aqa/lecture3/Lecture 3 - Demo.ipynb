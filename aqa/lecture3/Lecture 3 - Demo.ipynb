{
 "cells": [
  {
   "cell_type": "markdown",
   "id": "89dd34a4",
   "metadata": {},
   "source": [
    "<h2>Lecture 3: Python for Data Analysis</h2>"
   ]
  },
  {
   "cell_type": "markdown",
   "id": "361273a7",
   "metadata": {},
   "source": [
    "![title](img/python-library.png)"
   ]
  },
  {
   "cell_type": "markdown",
   "id": "981df5f2",
   "metadata": {},
   "source": [
    "<h2 id=\"topic-1-1\">Numpy Basic</h2>"
   ]
  },
  {
   "cell_type": "markdown",
   "id": "984545fc",
   "metadata": {},
   "source": [
    "<p>One of the reasons NumPy is so important for numerical computations in Python is \n",
    "because it is designed for efficiency on large arrays of data. There are a number of reasons for this:</p>\n",
    "\n",
    "<ul>\n",
    "<li>NumPy internally stores data in a contiguous block of memory, independent of other built-in Python objects. NumPy's library of algorithms written in the C language can operate on this memory without any type checking or other overhead. NumPy arrays also use much less memory than built-in Python sequences.</li>\n",
    "\n",
    "<li>NumPy operations perform complex computations on entire arrays without the need for Python for loops, which can be slow for large sequences. NumPy is faster than regular Python code because its C-based algorithms avoid overhead present with regular interpreted Python code.</li>\n",
    "</ul>\n",
    "\n",
    "To give you an idea of the performance difference, consider a NumPy array of one million integers, and the equivalent Python list:\n"
   ]
  },
  {
   "cell_type": "code",
   "execution_count": 1,
   "id": "82966bed",
   "metadata": {},
   "outputs": [],
   "source": [
    "%load_ext line_profiler\n",
    "\n",
    "import numpy as np\n",
    "my_arr = np.arange(1000000)\n",
    "my_list = list(range(1000000))"
   ]
  },
  {
   "cell_type": "code",
   "execution_count": 2,
   "id": "4eb1543d",
   "metadata": {},
   "outputs": [
    {
     "name": "stdout",
     "output_type": "stream",
     "text": [
      "1.19 ms ± 66.2 µs per loop (mean ± std. dev. of 7 runs, 1,000 loops each)\n"
     ]
    }
   ],
   "source": [
    "%timeit my_arr2 = my_arr * 2"
   ]
  },
  {
   "cell_type": "code",
   "execution_count": 3,
   "id": "a3e9b32b",
   "metadata": {},
   "outputs": [
    {
     "name": "stdout",
     "output_type": "stream",
     "text": [
      "52.4 ms ± 1.56 ms per loop (mean ± std. dev. of 7 runs, 10 loops each)\n"
     ]
    }
   ],
   "source": [
    "%timeit my_list2 = [x * 2 for x in my_list]"
   ]
  },
  {
   "cell_type": "markdown",
   "id": "13ad48b6",
   "metadata": {},
   "source": [
    "NumPy-based algorithms are generally 10 to 100 times faster (or more) than their pure Python counterparts and use significantly less memory.\n"
   ]
  },
  {
   "cell_type": "markdown",
   "id": "9e9c9fbc",
   "metadata": {},
   "source": [
    "<hr>"
   ]
  },
  {
   "cell_type": "markdown",
   "id": "e7e16c7a",
   "metadata": {},
   "source": [
    "<h4>Part A: Numpy Common Functions</h4>"
   ]
  },
  {
   "cell_type": "markdown",
   "id": "cfc7b004",
   "metadata": {},
   "source": [
    "The easiest way to create an array is to use the array function. \n",
    "This accepts any sequence-like object (including other arrays) and produces a new NumPy array containing the passed data. \n",
    "For example, a list is a good candidate for conversion:"
   ]
  },
  {
   "cell_type": "code",
   "execution_count": 4,
   "id": "fdfc81bc",
   "metadata": {},
   "outputs": [
    {
     "name": "stdout",
     "output_type": "stream",
     "text": [
      "arr1: [6.  7.5 8.  0.  1. ]\n"
     ]
    }
   ],
   "source": [
    "import numpy as np\n",
    "\n",
    "# Single dimension array\n",
    "data1 = [6, 7.5, 8, 0, 1]\n",
    "arr1 = np.array(data1)\n",
    "print(f\"arr1: {arr1}\")"
   ]
  },
  {
   "cell_type": "code",
   "execution_count": 5,
   "outputs": [
    {
     "name": "stdout",
     "output_type": "stream",
     "text": [
      "arr2: [[1 2 3 4]\n",
      " [5 6 7 8]]\n"
     ]
    }
   ],
   "source": [
    "# Multi-dimensional array\n",
    "data2 = [[1, 2, 3, 4], [5, 6, 7, 8]]\n",
    "arr2 = np.array(data2)\n",
    "print(f\"arr2: {arr2}\")"
   ],
   "metadata": {
    "collapsed": false
   }
  },
  {
   "cell_type": "code",
   "execution_count": 6,
   "outputs": [
    {
     "name": "stdout",
     "output_type": "stream",
     "text": [
      "arr2.ndim: 2\n",
      "arr2.shape: (2, 4)\n"
     ]
    }
   ],
   "source": [
    "# Dimension Check\n",
    "print(f\"arr2.ndim: {arr2.ndim}\")\n",
    "print(f\"arr2.shape: {arr2.shape}\")"
   ],
   "metadata": {
    "collapsed": false
   }
  },
  {
   "cell_type": "code",
   "execution_count": 7,
   "outputs": [
    {
     "data": {
      "text/plain": "(2, 4)"
     },
     "execution_count": 7,
     "metadata": {},
     "output_type": "execute_result"
    }
   ],
   "source": [
    "len(data2), len(data2[0])"
   ],
   "metadata": {
    "collapsed": false
   }
  },
  {
   "cell_type": "code",
   "execution_count": 8,
   "id": "6b0aa36e",
   "metadata": {},
   "outputs": [
    {
     "name": "stdout",
     "output_type": "stream",
     "text": [
      "np.zeros((3, 6)): [[0. 0. 0. 0. 0. 0.]\n",
      " [0. 0. 0. 0. 0. 0.]\n",
      " [0. 0. 0. 0. 0. 0.]]\n"
     ]
    }
   ],
   "source": [
    "# Creating 2-D zero arrays\n",
    "print(f\"np.zeros((3, 6)): {np.zeros((3, 6))}\")"
   ]
  },
  {
   "cell_type": "code",
   "execution_count": 9,
   "outputs": [
    {
     "name": "stdout",
     "output_type": "stream",
     "text": [
      "np.empty((2,3,4)): [[[4.67296746e-307 1.69121096e-306 1.33511290e-306 7.56587585e-307]\n",
      "  [1.37961302e-306 1.05699242e-307 1.95821439e-306 1.78021527e-306]\n",
      "  [8.90075380e-308 1.24610383e-306 1.69118108e-306 8.06632139e-308]]\n",
      "\n",
      " [[1.20160711e-306 1.69119330e-306 1.29062229e-306 1.60217812e-306]\n",
      "  [1.37961370e-306 1.42417629e-306 1.11258277e-307 1.05700515e-307]\n",
      "  [2.04712906e-306 7.56589622e-307 1.11258277e-307 8.90111708e-307]]]\n"
     ]
    }
   ],
   "source": [
    "# Creating 3-D zero arrays\n",
    "print(f\"np.empty((2,3,4)): {np.empty((2,3,4))}\")"
   ],
   "metadata": {
    "collapsed": false
   }
  },
  {
   "cell_type": "code",
   "execution_count": 10,
   "outputs": [
    {
     "name": "stdout",
     "output_type": "stream",
     "text": [
      "np.arange(10): [0 1 2 3 4 5 6 7 8 9]\n"
     ]
    }
   ],
   "source": [
    "# Creating range of integers\n",
    "print(f\"np.arange(10): {np.arange(10)}\")"
   ],
   "metadata": {
    "collapsed": false
   }
  },
  {
   "cell_type": "markdown",
   "id": "6a1be609",
   "metadata": {},
   "source": [
    "<p> For Numpy, since it is essentially a C-wrapper, one should start to be aware of data type<p>"
   ]
  },
  {
   "cell_type": "markdown",
   "id": "1fd2e130",
   "metadata": {},
   "source": [
    "![title](img/numpy-dtype.png)"
   ]
  },
  {
   "cell_type": "markdown",
   "id": "170adfa7",
   "metadata": {},
   "source": [
    "![title](img/data-size.png)"
   ]
  },
  {
   "cell_type": "code",
   "execution_count": 11,
   "id": "2cf1a163",
   "metadata": {},
   "outputs": [
    {
     "name": "stdout",
     "output_type": "stream",
     "text": [
      "data1.dtype: float64\n"
     ]
    }
   ],
   "source": [
    "# Numpy Data Type\n",
    "data1 = np.array([6, 7.5, 8, 0, 1])\n",
    "print(f\"data1.dtype: {data1.dtype}\")"
   ]
  },
  {
   "cell_type": "code",
   "execution_count": 12,
   "outputs": [
    {
     "name": "stdout",
     "output_type": "stream",
     "text": [
      "data2.dtype: int32\n"
     ]
    }
   ],
   "source": [
    "data2 = np.array([6, 7, 8, 0, 1])\n",
    "print(f\"data2.dtype: {data2.dtype}\")"
   ],
   "metadata": {
    "collapsed": false
   }
  },
  {
   "cell_type": "markdown",
   "id": "f9d28387-533b-4093-805f-8ceb323fc41b",
   "metadata": {},
   "source": [
    "<hr>\n",
    "<h4>Part B: Numpy Application - Linear Regression</h4>"
   ]
  },
  {
   "cell_type": "markdown",
   "id": "47e472d8",
   "metadata": {},
   "source": [
    "<p>Topic covered:</p>\n",
    "<ul>\n",
    "    <li>Matrix Arithmatic</li>\n",
    "    <li>Matrix Operation</li>\n",
    "    <li>Memory Footprint</li>\n",
    "</ul>"
   ]
  },
  {
   "cell_type": "code",
   "execution_count": 13,
   "id": "0ab7b01c",
   "metadata": {},
   "outputs": [],
   "source": [
    "from sys import getsizeof"
   ]
  },
  {
   "cell_type": "code",
   "execution_count": 14,
   "id": "1234bbf0-206f-435c-86cd-ec2a69179a95",
   "metadata": {},
   "outputs": [],
   "source": [
    "# y = aX + bI\n",
    "\n",
    "# Integer Version\n",
    "m = np.array([[1, 3, 5], [2,4,6]])\n",
    "beta = np.array([3, 5])\n",
    "X = np.array([2,5,7])\n",
    "y1 = np.matmul(m, X.T) + beta"
   ]
  },
  {
   "cell_type": "code",
   "execution_count": 15,
   "id": "4107cfb8-9ef1-4549-9d49-dbe30b5f0d52",
   "metadata": {},
   "outputs": [],
   "source": [
    "# Float Version\n",
    "m = np.array([[1., 3., 5.], [2., 4., 6.]])\n",
    "beta = np.array([3., 5.])\n",
    "X = np.array([2., 5., 7.])\n",
    "y2 = np.matmul(m, X.T) + beta"
   ]
  },
  {
   "cell_type": "code",
   "execution_count": 16,
   "id": "d39e6bf4",
   "metadata": {},
   "outputs": [
    {
     "name": "stdout",
     "output_type": "stream",
     "text": [
      "getsizeof(y1): 120 bytes\n",
      "getsizeof(y2): 128 bytes\n"
     ]
    }
   ],
   "source": [
    "print(f\"getsizeof(y1): {getsizeof(y1)} bytes\")\n",
    "print(f\"getsizeof(y2): {getsizeof(y2)} bytes\")"
   ]
  },
  {
   "cell_type": "markdown",
   "id": "06b9d6a1",
   "metadata": {},
   "source": [
    "<hr>\n",
    "<h4>Part C: Numpy Application - Normal Distribution</h4>"
   ]
  },
  {
   "cell_type": "markdown",
   "id": "dd8fdcd2-dadf-42ba-88e8-490c55af8ec7",
   "metadata": {},
   "source": [
    "<p>Topic covered:</p>\n",
    "<ul>\n",
    "    <li>Random Generator</li>\n",
    "    <li>Statistic Metrics</li>\n",
    "</ul>"
   ]
  },
  {
   "cell_type": "code",
   "execution_count": 17,
   "id": "1b9255b3-c271-48c9-9527-24276610079e",
   "metadata": {},
   "outputs": [],
   "source": [
    "normal_distribution = np.random.normal(0, 1, 10000)"
   ]
  },
  {
   "cell_type": "code",
   "execution_count": 18,
   "id": "7ef37330-5316-43ac-a875-454b9ecdc0ec",
   "metadata": {},
   "outputs": [
    {
     "name": "stdout",
     "output_type": "stream",
     "text": [
      "Mean: -0.012482432959859593, SD: 1.0026390378519405\n",
      "Max: 3.699173067691693, Min: -3.845619047921678\n"
     ]
    }
   ],
   "source": [
    "print(f\"Mean: {normal_distribution.mean()}, SD: {normal_distribution.std()}\")\n",
    "print(f\"Max: {normal_distribution.max()}, Min: {normal_distribution.min()}\")"
   ]
  },
  {
   "cell_type": "markdown",
   "id": "598c7cff",
   "metadata": {},
   "source": [
    "<hr>\n",
    "<h4>Part D: Numpy Application - Random Walk</h4>"
   ]
  },
  {
   "cell_type": "markdown",
   "id": "2a32ab9a",
   "metadata": {},
   "source": [
    "<p>Topic covered:</p>\n",
    "<ul>\n",
    "    <li>Random Generator</li>\n",
    "    <li>Statistic Metrics</li>\n",
    "    <li>Conditional</li>\n",
    "</ul>"
   ]
  },
  {
   "cell_type": "markdown",
   "id": "1814f184-76d9-4854-92d9-29b4a2694a5a",
   "metadata": {},
   "source": [
    "<h3>Random Walk</h3>"
   ]
  },
  {
   "cell_type": "code",
   "execution_count": 19,
   "id": "c0f47135",
   "metadata": {},
   "outputs": [],
   "source": [
    "from matplotlib import pyplot as plt"
   ]
  },
  {
   "cell_type": "code",
   "execution_count": 20,
   "id": "7bcf2f49-ff9a-49e6-a230-4d162192c4d1",
   "metadata": {},
   "outputs": [
    {
     "data": {
      "text/plain": "[<matplotlib.lines.Line2D at 0x1a75a881ed0>]"
     },
     "execution_count": 20,
     "metadata": {},
     "output_type": "execute_result"
    },
    {
     "data": {
      "text/plain": "<Figure size 640x480 with 1 Axes>",
      "image/png": "[encoded data removed]"
     },
     "metadata": {},
     "output_type": "display_data"
    }
   ],
   "source": [
    "random_walks = np.random.randint(-1, 2, 10000)\n",
    "random_walks.mean()\n",
    "plt.plot(np.cumsum(random_walks))"
   ]
  },
  {
   "cell_type": "markdown",
   "id": "179387ba",
   "metadata": {},
   "source": [
    "<p>Assume now we plays a game that, the reward is equivalent to the current location, which follows a random walk, and square root of a random score.</p>"
   ]
  },
  {
   "cell_type": "code",
   "execution_count": 21,
   "id": "3be6e6d9-1022-43fe-b43c-5744029fc78b",
   "metadata": {},
   "outputs": [],
   "source": [
    "random_walks = np.random.randint(-1, 2, 10000)\n",
    "normal_distribution = np.random.normal(0, 1, 10000)\n",
    "rewards = random_walks * np.sqrt(normal_distribution ** 2)"
   ]
  },
  {
   "cell_type": "code",
   "execution_count": 22,
   "id": "25c85e5d-b2e5-4c3e-aa1c-1da77b7506ab",
   "metadata": {},
   "outputs": [],
   "source": [
    "exponential_distribution = np.random.exponential(scale=2.0, size=1000)\n",
    "filtering = np.where(exponential_distribution > 2, True, False)"
   ]
  },
  {
   "cell_type": "code",
   "execution_count": 23,
   "outputs": [
    {
     "name": "stdout",
     "output_type": "stream",
     "text": [
      "Average (for all x): 2.0205476497863177\n",
      "Average (for x>2): 3.9702655270732183\n"
     ]
    }
   ],
   "source": [
    "print(f\"Average (for all x): {exponential_distribution.mean()}\")\n",
    "print(f\"Average (for x>2): {exponential_distribution[filtering].mean()}\")"
   ],
   "metadata": {
    "collapsed": false
   }
  },
  {
   "cell_type": "code",
   "execution_count": 24,
   "id": "1263a0ea-1db7-4061-ac5a-daac54ac6440",
   "metadata": {},
   "outputs": [
    {
     "name": "stdout",
     "output_type": "stream",
     "text": [
      "[Probability < 1.96] - 0.9728\n",
      "[Probability < 1.6] - 0.9452\n"
     ]
    }
   ],
   "source": [
    "# ZScore\n",
    "normal_distribution = np.random.normal(0, 1, 10000)\n",
    "print(f\"[Probability < 1.96] - {1 - normal_distribution[normal_distribution > 1.96].shape[0] / 10000}\")\n",
    "print(f\"[Probability < 1.6] - {1 - normal_distribution[normal_distribution > 1.6].shape[0] / 10000}\")"
   ]
  },
  {
   "cell_type": "markdown",
   "id": "7cf336e6-0dfb-406d-a752-7b1a789149b3",
   "metadata": {},
   "source": [
    "<h3>Concat & Split Array</h3>"
   ]
  },
  {
   "cell_type": "code",
   "execution_count": 25,
   "id": "bc4b14ef-5ac0-42f7-aa69-5414ad50b15b",
   "metadata": {},
   "outputs": [
    {
     "data": {
      "text/plain": "array([[ 0.        ,  1.06904497,  1.06904497],\n       [ 1.22474487,  0.26726124,  0.26726124],\n       [-1.22474487, -1.33630621, -1.33630621]])"
     },
     "execution_count": 25,
     "metadata": {},
     "output_type": "execute_result"
    }
   ],
   "source": [
    "# y = aX + bI\n",
    "\n",
    "m = np.array([[1, 3, 5], [2,4,6]])\n",
    "beta = np.array([3, 5])\n",
    "\n",
    "X_1 = np.array([2,5,7])\n",
    "X_2 = np.array([3,4,6])\n",
    "X_3 = np.array([1,2,4])\n",
    "\n",
    "# Below are same operation\n",
    "X = np.vstack([X_1, X_2, X_3])\n",
    "X = np.concatenate([[X_1], [X_2], [X_3]])\n",
    "\n",
    "y = np.matmul(m, X.T) + beta[0]\n",
    "\n",
    "# Scaling Factor\n",
    "(X - X.mean(axis=0)) / X.std(axis=0)"
   ]
  },
  {
   "cell_type": "markdown",
   "id": "a04fb734",
   "metadata": {},
   "source": [
    "<h2 id=\"topic-1-2\">Numpy/Numba Performance</h2>"
   ]
  },
  {
   "cell_type": "markdown",
   "id": "08f210d2",
   "metadata": {},
   "source": [
    "<p> Numba is an open source project that creates fast functions for NumPy-like data using CPUs, GPUs, or other hardware. \n",
    "It uses the LLVM Project to translate Python code into compiled machine code. </p>"
   ]
  },
  {
   "cell_type": "markdown",
   "id": "5e4f9401",
   "metadata": {},
   "source": [
    "![title](img/jit-compile.jpg)"
   ]
  },
  {
   "cell_type": "markdown",
   "id": "9de275b6-2ff8-4b3f-a1c0-515acb65ded6",
   "metadata": {},
   "source": [
    "<hr>\n",
    "<h4>Part A: Performance of Python Native and Numpy</h4>"
   ]
  },
  {
   "cell_type": "markdown",
   "id": "cc48f7e3",
   "metadata": {},
   "source": [
    "<p>Let's first look at an example of numpy comparing with Python native</p>"
   ]
  },
  {
   "cell_type": "code",
   "execution_count": 26,
   "id": "96cf701e",
   "metadata": {},
   "outputs": [],
   "source": [
    "def matrix_mulitplication(X1, X2):\n",
    "    total = 0\n",
    "    for x, y in zip(X1, X2):\n",
    "        total += x * y\n",
    "    return total\n",
    "X1 = np.random.randint(-100, 100, 1000000)\n",
    "X2 = np.random.randint(-100, 100, 1000000)"
   ]
  },
  {
   "cell_type": "code",
   "execution_count": 27,
   "id": "db3325a6",
   "metadata": {},
   "outputs": [
    {
     "name": "stdout",
     "output_type": "stream",
     "text": [
      "Speed up (Python vs Numpy): 160.84452380952382\n"
     ]
    }
   ],
   "source": [
    "import time\n",
    "\n",
    "start = time.time()\n",
    "matrix_mulitplication(X1, X2)\n",
    "total_time_raw = time.time() - start\n",
    "\n",
    "start = time.time()\n",
    "np.matmul(X1.T, X2)\n",
    "total_time_numpy = time.time() - start\n",
    "\n",
    "print(f\"Speed up (Python vs Numpy): {total_time_raw / total_time_numpy}\")"
   ]
  },
  {
   "cell_type": "markdown",
   "id": "4a5ecae2",
   "metadata": {},
   "source": [
    "<p>Let's compare between Python Native and Numpy with another example</p>"
   ]
  },
  {
   "cell_type": "code",
   "execution_count": 28,
   "id": "27a5625f-3cc6-4f71-8e5d-2eafa6e4420e",
   "metadata": {},
   "outputs": [],
   "source": [
    "# max\n",
    "def get_max(array):\n",
    "    current_max = array[0]\n",
    "    for item in array:\n",
    "        if item > current_max:\n",
    "            current_max = item\n",
    "    return current_max"
   ]
  },
  {
   "cell_type": "code",
   "execution_count": 29,
   "id": "8e9b476f-b8eb-4721-97d4-96740cebdf5e",
   "metadata": {},
   "outputs": [],
   "source": [
    "numbers = np.random.normal(0, 1, 1000000)"
   ]
  },
  {
   "cell_type": "code",
   "execution_count": 30,
   "id": "374cfd67-1539-4042-970b-be3071e0291d",
   "metadata": {},
   "outputs": [
    {
     "name": "stdout",
     "output_type": "stream",
     "text": [
      "Speed up (Python vs Numpy): 65.9880810488677\n"
     ]
    }
   ],
   "source": [
    "import time\n",
    "\n",
    "start = time.time()\n",
    "get_max(numbers)\n",
    "total_time_raw = time.time() - start\n",
    "\n",
    "start = time.time()\n",
    "numbers.max()\n",
    "total_time_numpy = time.time() - start\n",
    "\n",
    "print(f\"Speed up (Python vs Numpy): {total_time_raw / total_time_numpy}\")"
   ]
  },
  {
   "cell_type": "markdown",
   "id": "b41e12f7-d0b5-412c-90bb-ec68ca68d043",
   "metadata": {},
   "source": [
    "<hr>\n",
    "<h4>Part B: Using Numba for Custom Function</h4>"
   ]
  },
  {
   "cell_type": "markdown",
   "id": "4db89bab",
   "metadata": {},
   "source": [
    "<p>To introduce Numba, let's consider a pure Python function that computes the expression (x - y).mean() using a for loop:</p>"
   ]
  },
  {
   "cell_type": "code",
   "execution_count": 31,
   "id": "ba69981c-0e30-474e-b705-344d4e61050c",
   "metadata": {},
   "outputs": [],
   "source": [
    "import numba as nb\n",
    "\n",
    "class TestObject:\n",
    "    pass\n",
    "\n",
    "def mean_distance(x, y):\n",
    "    nx = len(x)\n",
    "    result = 0.0\n",
    "    count = 0\n",
    "    for i in range(nx):\n",
    "        result += x[i] - y[i]\n",
    "        count += 1\n",
    "    return result / count"
   ]
  },
  {
   "cell_type": "code",
   "execution_count": 32,
   "id": "7bf569df-66e7-47fa-996a-026f9fc53565",
   "metadata": {},
   "outputs": [],
   "source": [
    "x = np.random.normal(0, 1, 100000)\n",
    "y = np.random.normal(0, 1, 100000)\n",
    "numba_mean_distance = nb.jit(mean_distance)"
   ]
  },
  {
   "cell_type": "code",
   "execution_count": 33,
   "id": "991f6583",
   "metadata": {},
   "outputs": [
    {
     "name": "stdout",
     "output_type": "stream",
     "text": [
      "Speed up (Python vs Numba): 4.826891506369517\n"
     ]
    }
   ],
   "source": [
    "total_time_raw = 0\n",
    "total_time_numba = 0\n",
    "\n",
    "for i in range(100):\n",
    "    start = time.time()\n",
    "    mean_distance(x, y)\n",
    "    total_time_raw += time.time() - start\n",
    "\n",
    "    start = time.time()\n",
    "    numba_mean_distance(x, y)\n",
    "    total_time_numba += time.time() - start\n",
    "\n",
    "print(f\"Speed up (Python vs Numba): {total_time_raw / total_time_numba}\")"
   ]
  },
  {
   "cell_type": "markdown",
   "id": "7c6a164f-808f-4ae8-9697-b738582fe623",
   "metadata": {},
   "source": [
    "<hr>\n",
    "<h2 id=\"topic.1.4\">Pandas</h2>"
   ]
  },
  {
   "cell_type": "markdown",
   "id": "f7175ae4",
   "metadata": {},
   "source": [
    "<p>While pandas adopts many coding idioms from NumPy, the biggest difference is that pandas is designed for working with tabular or heterogeneous data. NumPy, by contrast, is best suited for working with homogeneously typed numerical array data.</p>\n",
    "<p><i>P.S. There is a gain in popularity of similar library \"Polars\", which is way faster than Pandas owning to the improvement in memory model.</i></p>"
   ]
  },
  {
   "cell_type": "markdown",
   "id": "b993160e",
   "metadata": {},
   "source": [
    "![title](img/pandas-internal.png)"
   ]
  },
  {
   "cell_type": "code",
   "execution_count": 34,
   "id": "31af11f5-cf81-4185-8c5d-5040732a88f3",
   "metadata": {},
   "outputs": [],
   "source": [
    "import pandas as pd"
   ]
  },
  {
   "cell_type": "markdown",
   "id": "7bec4cc1-f0c6-4f8c-810a-e52bef8d8e9f",
   "metadata": {},
   "source": [
    "<h4>Part A: Data Type</h4>"
   ]
  },
  {
   "cell_type": "markdown",
   "id": "27856e93",
   "metadata": {},
   "source": [
    "<p>As Pandas uses Numpy as underlying, data type is also something important and embedded into Pandas.</p>"
   ]
  },
  {
   "cell_type": "markdown",
   "id": "64a9274c",
   "metadata": {},
   "source": [
    "![title](img/pandas-datatype.png)"
   ]
  },
  {
   "cell_type": "code",
   "execution_count": 35,
   "id": "5c2d4515-79d6-4432-a0d6-a7dd05d020ee",
   "metadata": {},
   "outputs": [],
   "source": [
    "df = pd.DataFrame({\"Date\": [\"01/01/2027\", \"03/12/2027\"], \"Value\": [1.0, 2.3]})\n",
    "df[\"Date\"] = pd.to_datetime(df[\"Date\"])"
   ]
  },
  {
   "cell_type": "code",
   "execution_count": 36,
   "id": "a434cd3c-9f87-4911-b21d-c00e8c33d184",
   "metadata": {},
   "outputs": [
    {
     "name": "stdout",
     "output_type": "stream",
     "text": [
      "df[\"Date\"].dtype: datetime64[ns]\n"
     ]
    }
   ],
   "source": [
    "print(f'df[\"Date\"].dtype: {df[\"Date\"].dtype}')"
   ]
  },
  {
   "cell_type": "code",
   "execution_count": 37,
   "outputs": [
    {
     "name": "stdout",
     "output_type": "stream",
     "text": [
      "df[\"Value\"].dtype: float64\n"
     ]
    }
   ],
   "source": [
    "print(f'df[\"Value\"].dtype: {df[\"Value\"].dtype}')"
   ],
   "metadata": {
    "collapsed": false
   }
  },
  {
   "cell_type": "markdown",
   "id": "51f105fc-b0aa-4484-893a-a65e022ee04e",
   "metadata": {},
   "source": [
    "<hr>\n",
    "<h4> Part B: Empty Handling</h4>"
   ]
  },
  {
   "cell_type": "markdown",
   "id": "bfdeb3ad",
   "metadata": {},
   "source": [
    "<p>Let us create an artificial stock price series and work on some basic filtering and empty handling</p>"
   ]
  },
  {
   "cell_type": "code",
   "execution_count": 38,
   "id": "6b926436-7c33-4c5a-9f77-1f0e504d3534",
   "metadata": {},
   "outputs": [],
   "source": [
    "import datetime\n",
    "\n",
    "n = 1000\n",
    "random_walks = np.random.randint(-1, 2, n)\n",
    "stock_price = np.cumsum(random_walks) + 100\n",
    "empty = np.random.randint(0, 100, n) < 20\n",
    "stock_price = stock_price.astype(np.float32)\n",
    "stock_price[empty] = np.nan\n",
    "dates = [datetime.datetime.today() + datetime.timedelta(days=i) for i in range(n)]\n",
    "df_stock = pd.DataFrame({\"Date\": dates, \"Price\": stock_price})"
   ]
  },
  {
   "cell_type": "code",
   "execution_count": 39,
   "id": "b82d3cd3",
   "metadata": {},
   "outputs": [
    {
     "name": "stdout",
     "output_type": "stream",
     "text": [
      "Number of empty row: (188, 2)\n"
     ]
    }
   ],
   "source": [
    "print(f'Number of empty row: {df_stock[df_stock[\"Price\"].isna()].shape}')"
   ]
  },
  {
   "cell_type": "code",
   "execution_count": 40,
   "id": "de7d9866-7be0-49bd-8e45-d96f860aaa94",
   "metadata": {},
   "outputs": [
    {
     "data": {
      "text/plain": "<Axes: xlabel='Date'>"
     },
     "execution_count": 40,
     "metadata": {},
     "output_type": "execute_result"
    },
    {
     "data": {
      "text/plain": "<Figure size 640x480 with 1 Axes>",
      "image/png": "[encoded data removed]"
     },
     "metadata": {},
     "output_type": "display_data"
    }
   ],
   "source": [
    "df_stock.plot(x=\"Date\", y=\"Price\")"
   ]
  },
  {
   "cell_type": "code",
   "execution_count": 41,
   "id": "8b78cbd2-693c-474d-9ac0-21dae5ac0d2d",
   "metadata": {},
   "outputs": [
    {
     "name": "stdout",
     "output_type": "stream",
     "text": [
      "Number of empty row: (0, 2)\n"
     ]
    }
   ],
   "source": [
    "df_stock[\"Price\"] = df_stock[\"Price\"].ffill()\n",
    "print(f'Number of empty row: {df_stock[df_stock[\"Price\"].isna()].shape}')"
   ]
  },
  {
   "cell_type": "code",
   "execution_count": 42,
   "id": "3f67fe54-9553-4a47-b1a8-fa8957d929c7",
   "metadata": {},
   "outputs": [
    {
     "data": {
      "text/plain": "<Figure size 640x480 with 1 Axes>",
      "image/png": "[encoded data removed]"
     },
     "metadata": {},
     "output_type": "display_data"
    }
   ],
   "source": [
    "plt.plot(df_stock[\"Date\"], df_stock[\"Price\"])\n",
    "plt.show()"
   ]
  },
  {
   "cell_type": "markdown",
   "id": "ceadd024",
   "metadata": {},
   "source": [
    "<hr>\n",
    "<h4>Part C: Descriptive Statistics</h4>"
   ]
  },
  {
   "cell_type": "code",
   "execution_count": 43,
   "id": "28c7fe37-91f8-496d-9807-406e95aea1b4",
   "metadata": {},
   "outputs": [
    {
     "data": {
      "text/plain": "                                Date        Price\ncount                           1000  1000.000000\nmean   2026-05-18 10:52:03.930981120   100.233002\nmin       2025-01-03 22:52:03.930339    84.000000\n25%    2025-09-10 16:52:03.930339072    96.000000\n50%    2026-05-18 10:52:03.931339008   101.000000\n75%    2027-01-23 04:52:03.931339008   104.000000\nmax       2027-09-29 22:52:03.931339   112.000000\nstd                              NaN     6.008062",
      "text/html": "<div>\n<style scoped>\n    .dataframe tbody tr th:only-of-type {\n        vertical-align: middle;\n    }\n\n    .dataframe tbody tr th {\n        vertical-align: top;\n    }\n\n    .dataframe thead th {\n        text-align: right;\n    }\n</style>\n<table border=\"1\" class=\"dataframe\">\n  <thead>\n    <tr style=\"text-align: right;\">\n      <th></th>\n      <th>Date</th>\n      <th>Price</th>\n    </tr>\n  </thead>\n  <tbody>\n    <tr>\n      <th>count</th>\n      <td>1000</td>\n      <td>1000.000000</td>\n    </tr>\n    <tr>\n      <th>mean</th>\n      <td>2026-05-18 10:52:03.930981120</td>\n      <td>100.233002</td>\n    </tr>\n    <tr>\n      <th>min</th>\n      <td>2025-01-03 22:52:03.930339</td>\n      <td>84.000000</td>\n    </tr>\n    <tr>\n      <th>25%</th>\n      <td>2025-09-10 16:52:03.930339072</td>\n      <td>96.000000</td>\n    </tr>\n    <tr>\n      <th>50%</th>\n      <td>2026-05-18 10:52:03.931339008</td>\n      <td>101.000000</td>\n    </tr>\n    <tr>\n      <th>75%</th>\n      <td>2027-01-23 04:52:03.931339008</td>\n      <td>104.000000</td>\n    </tr>\n    <tr>\n      <th>max</th>\n      <td>2027-09-29 22:52:03.931339</td>\n      <td>112.000000</td>\n    </tr>\n    <tr>\n      <th>std</th>\n      <td>NaN</td>\n      <td>6.008062</td>\n    </tr>\n  </tbody>\n</table>\n</div>"
     },
     "execution_count": 43,
     "metadata": {},
     "output_type": "execute_result"
    }
   ],
   "source": [
    "df_stock.describe()"
   ]
  },
  {
   "cell_type": "markdown",
   "id": "4159bf60-8da4-4ae8-98fa-04e226bd0120",
   "metadata": {},
   "source": [
    "<h3>Merge operations</h3>"
   ]
  },
  {
   "cell_type": "code",
   "execution_count": 44,
   "id": "e49fe14e-375e-438a-b6ac-1cf84e1371b3",
   "metadata": {},
   "outputs": [],
   "source": [
    "ids = np.random.randint(0, 100, 200)\n",
    "purchase_value = np.random.randint(1, 10000, 200)\n",
    "df_purchase = pd.DataFrame({\"ID\": ids, \"Value\": purchase_value})\n",
    "\n",
    "ids_2 = np.random.choice(100, 50, replace=False)\n",
    "membership_tag = np.random.randint(0, 2, 50) == 1\n",
    "df_membership = pd.DataFrame({\"ID\": ids_2, \"Is_member\": membership_tag})"
   ]
  },
  {
   "cell_type": "code",
   "execution_count": 45,
   "id": "088b3171-e0e5-4c2e-9830-15a24da4584b",
   "metadata": {},
   "outputs": [
    {
     "data": {
      "text/plain": "     ID   Value Is_member\n0     0  6825.0      True\n1     0   503.0      True\n2     1  3681.0       NaN\n3     2  6736.0      True\n4     2  7115.0      True\n..   ..     ...       ...\n200  97  6113.0       NaN\n201  98  2078.0      True\n202  98  2589.0      True\n203  98  8361.0      True\n204  99  7426.0      True\n\n[205 rows x 3 columns]",
      "text/html": "<div>\n<style scoped>\n    .dataframe tbody tr th:only-of-type {\n        vertical-align: middle;\n    }\n\n    .dataframe tbody tr th {\n        vertical-align: top;\n    }\n\n    .dataframe thead th {\n        text-align: right;\n    }\n</style>\n<table border=\"1\" class=\"dataframe\">\n  <thead>\n    <tr style=\"text-align: right;\">\n      <th></th>\n      <th>ID</th>\n      <th>Value</th>\n      <th>Is_member</th>\n    </tr>\n  </thead>\n  <tbody>\n    <tr>\n      <th>0</th>\n      <td>0</td>\n      <td>6825.0</td>\n      <td>True</td>\n    </tr>\n    <tr>\n      <th>1</th>\n      <td>0</td>\n      <td>503.0</td>\n      <td>True</td>\n    </tr>\n    <tr>\n      <th>2</th>\n      <td>1</td>\n      <td>3681.0</td>\n      <td>NaN</td>\n    </tr>\n    <tr>\n      <th>3</th>\n      <td>2</td>\n      <td>6736.0</td>\n      <td>True</td>\n    </tr>\n    <tr>\n      <th>4</th>\n      <td>2</td>\n      <td>7115.0</td>\n      <td>True</td>\n    </tr>\n    <tr>\n      <th>...</th>\n      <td>...</td>\n      <td>...</td>\n      <td>...</td>\n    </tr>\n    <tr>\n      <th>200</th>\n      <td>97</td>\n      <td>6113.0</td>\n      <td>NaN</td>\n    </tr>\n    <tr>\n      <th>201</th>\n      <td>98</td>\n      <td>2078.0</td>\n      <td>True</td>\n    </tr>\n    <tr>\n      <th>202</th>\n      <td>98</td>\n      <td>2589.0</td>\n      <td>True</td>\n    </tr>\n    <tr>\n      <th>203</th>\n      <td>98</td>\n      <td>8361.0</td>\n      <td>True</td>\n    </tr>\n    <tr>\n      <th>204</th>\n      <td>99</td>\n      <td>7426.0</td>\n      <td>True</td>\n    </tr>\n  </tbody>\n</table>\n<p>205 rows × 3 columns</p>\n</div>"
     },
     "execution_count": 45,
     "metadata": {},
     "output_type": "execute_result"
    }
   ],
   "source": [
    "df_purchase.merge(df_membership, on=\"ID\", how=\"inner\")\n",
    "df_purchase.merge(df_membership, on=\"ID\", how=\"outer\")"
   ]
  },
  {
   "cell_type": "code",
   "execution_count": 46,
   "id": "ecfdf2a8-0f0f-46b1-855e-d123d421b372",
   "metadata": {},
   "outputs": [],
   "source": [
    "ids = np.random.randint(0, 100, 200)\n",
    "purchase_value = np.random.randint(1, 10000, 200)\n",
    "df_purchase = pd.DataFrame({\"ID1\": ids, \"Value\": purchase_value})\n",
    "\n",
    "ids_2 = np.random.choice(100, 50, replace=False)\n",
    "membership_tag = np.random.randint(0, 2, 50) == 1\n",
    "df_membership = pd.DataFrame({\"ID2\": ids_2, \"Is_member\": membership_tag})"
   ]
  },
  {
   "cell_type": "code",
   "execution_count": 47,
   "id": "fdc57bb6-f859-4c1c-8c53-3fb578ab2280",
   "metadata": {},
   "outputs": [
    {
     "data": {
      "text/plain": "     ID1  Value  ID2  Is_member\n0     14   3761   14       True\n1     93   7247   93      False\n2     68   7218   68       True\n3     62   6277   62      False\n4     26   2375   26       True\n..   ...    ...  ...        ...\n102   35   7533   35      False\n103   73   2559   73       True\n104   56   8230   56       True\n105   44   1874   44       True\n106   82   7038   82      False\n\n[107 rows x 4 columns]",
      "text/html": "<div>\n<style scoped>\n    .dataframe tbody tr th:only-of-type {\n        vertical-align: middle;\n    }\n\n    .dataframe tbody tr th {\n        vertical-align: top;\n    }\n\n    .dataframe thead th {\n        text-align: right;\n    }\n</style>\n<table border=\"1\" class=\"dataframe\">\n  <thead>\n    <tr style=\"text-align: right;\">\n      <th></th>\n      <th>ID1</th>\n      <th>Value</th>\n      <th>ID2</th>\n      <th>Is_member</th>\n    </tr>\n  </thead>\n  <tbody>\n    <tr>\n      <th>0</th>\n      <td>14</td>\n      <td>3761</td>\n      <td>14</td>\n      <td>True</td>\n    </tr>\n    <tr>\n      <th>1</th>\n      <td>93</td>\n      <td>7247</td>\n      <td>93</td>\n      <td>False</td>\n    </tr>\n    <tr>\n      <th>2</th>\n      <td>68</td>\n      <td>7218</td>\n      <td>68</td>\n      <td>True</td>\n    </tr>\n    <tr>\n      <th>3</th>\n      <td>62</td>\n      <td>6277</td>\n      <td>62</td>\n      <td>False</td>\n    </tr>\n    <tr>\n      <th>4</th>\n      <td>26</td>\n      <td>2375</td>\n      <td>26</td>\n      <td>True</td>\n    </tr>\n    <tr>\n      <th>...</th>\n      <td>...</td>\n      <td>...</td>\n      <td>...</td>\n      <td>...</td>\n    </tr>\n    <tr>\n      <th>102</th>\n      <td>35</td>\n      <td>7533</td>\n      <td>35</td>\n      <td>False</td>\n    </tr>\n    <tr>\n      <th>103</th>\n      <td>73</td>\n      <td>2559</td>\n      <td>73</td>\n      <td>True</td>\n    </tr>\n    <tr>\n      <th>104</th>\n      <td>56</td>\n      <td>8230</td>\n      <td>56</td>\n      <td>True</td>\n    </tr>\n    <tr>\n      <th>105</th>\n      <td>44</td>\n      <td>1874</td>\n      <td>44</td>\n      <td>True</td>\n    </tr>\n    <tr>\n      <th>106</th>\n      <td>82</td>\n      <td>7038</td>\n      <td>82</td>\n      <td>False</td>\n    </tr>\n  </tbody>\n</table>\n<p>107 rows × 4 columns</p>\n</div>"
     },
     "execution_count": 47,
     "metadata": {},
     "output_type": "execute_result"
    }
   ],
   "source": [
    "df_purchase.merge(df_membership, left_on=\"ID1\", right_on= \"ID2\", how=\"inner\")"
   ]
  },
  {
   "cell_type": "code",
   "execution_count": 48,
   "outputs": [],
   "source": [
    "df = df_purchase.merge(df_membership, left_on=\"ID1\", right_on= \"ID2\", how=\"inner\")"
   ],
   "metadata": {
    "collapsed": false
   }
  },
  {
   "cell_type": "code",
   "execution_count": 49,
   "outputs": [
    {
     "data": {
      "text/plain": "   Is_member        ID1        Value        ID2\n0      False  62.595745  5248.106383  62.595745\n1       True  47.450000  5031.083333  47.450000",
      "text/html": "<div>\n<style scoped>\n    .dataframe tbody tr th:only-of-type {\n        vertical-align: middle;\n    }\n\n    .dataframe tbody tr th {\n        vertical-align: top;\n    }\n\n    .dataframe thead th {\n        text-align: right;\n    }\n</style>\n<table border=\"1\" class=\"dataframe\">\n  <thead>\n    <tr style=\"text-align: right;\">\n      <th></th>\n      <th>Is_member</th>\n      <th>ID1</th>\n      <th>Value</th>\n      <th>ID2</th>\n    </tr>\n  </thead>\n  <tbody>\n    <tr>\n      <th>0</th>\n      <td>False</td>\n      <td>62.595745</td>\n      <td>5248.106383</td>\n      <td>62.595745</td>\n    </tr>\n    <tr>\n      <th>1</th>\n      <td>True</td>\n      <td>47.450000</td>\n      <td>5031.083333</td>\n      <td>47.450000</td>\n    </tr>\n  </tbody>\n</table>\n</div>"
     },
     "execution_count": 49,
     "metadata": {},
     "output_type": "execute_result"
    }
   ],
   "source": [
    "df.groupby(by=\"Is_member\").mean().reset_index()"
   ],
   "metadata": {
    "collapsed": false
   }
  },
  {
   "cell_type": "markdown",
   "id": "d349e863-05f3-4693-bdf0-ce87a3e15a08",
   "metadata": {},
   "source": [
    "<h3>Group Operation</h3>"
   ]
  },
  {
   "cell_type": "code",
   "execution_count": 50,
   "id": "f6a0fae2-12c2-44b6-b151-93a73d909f86",
   "metadata": {},
   "outputs": [],
   "source": [
    "df = pd.read_csv(\"train.csv\")"
   ]
  },
  {
   "cell_type": "code",
   "execution_count": 51,
   "id": "17b0aaa4-c831-4421-be53-602d1c959bf6",
   "metadata": {},
   "outputs": [],
   "source": [
    "df[\"AgeGroup\"] = pd.qcut(df[\"Age\"], 4, labels=[\"Very Young\", \"Young\", \"Old\", \"Very Old\"])"
   ]
  },
  {
   "cell_type": "code",
   "execution_count": 52,
   "outputs": [
    {
     "name": "stderr",
     "output_type": "stream",
     "text": [
      "C:\\Users\\Henry\\AppData\\Local\\Temp\\ipykernel_46860\\522859795.py:1: FutureWarning: The default of observed=False is deprecated and will be changed to True in a future version of pandas. Pass observed=False to retain current behavior or observed=True to adopt the future default and silence this warning.\n",
      "  df.groupby(by=[\"AgeGroup\"])[\"Fare\"].agg([\"mean\", \"std\"])\n"
     ]
    },
    {
     "data": {
      "text/plain": "                 mean        std\nAgeGroup                        \nVery Young  29.853074  41.307063\nYoung       28.999223  45.812365\nOld         38.827927  72.948814\nVery Old    41.392303  45.476854",
      "text/html": "<div>\n<style scoped>\n    .dataframe tbody tr th:only-of-type {\n        vertical-align: middle;\n    }\n\n    .dataframe tbody tr th {\n        vertical-align: top;\n    }\n\n    .dataframe thead th {\n        text-align: right;\n    }\n</style>\n<table border=\"1\" class=\"dataframe\">\n  <thead>\n    <tr style=\"text-align: right;\">\n      <th></th>\n      <th>mean</th>\n      <th>std</th>\n    </tr>\n    <tr>\n      <th>AgeGroup</th>\n      <th></th>\n      <th></th>\n    </tr>\n  </thead>\n  <tbody>\n    <tr>\n      <th>Very Young</th>\n      <td>29.853074</td>\n      <td>41.307063</td>\n    </tr>\n    <tr>\n      <th>Young</th>\n      <td>28.999223</td>\n      <td>45.812365</td>\n    </tr>\n    <tr>\n      <th>Old</th>\n      <td>38.827927</td>\n      <td>72.948814</td>\n    </tr>\n    <tr>\n      <th>Very Old</th>\n      <td>41.392303</td>\n      <td>45.476854</td>\n    </tr>\n  </tbody>\n</table>\n</div>"
     },
     "execution_count": 52,
     "metadata": {},
     "output_type": "execute_result"
    }
   ],
   "source": [
    "df.groupby(by=[\"AgeGroup\"])[\"Fare\"].agg([\"mean\", \"std\"])"
   ],
   "metadata": {
    "collapsed": false
   }
  },
  {
   "cell_type": "code",
   "execution_count": 53,
   "id": "178b7ba6-5206-4a0e-b53d-4ec85365ac3e",
   "metadata": {},
   "outputs": [
    {
     "name": "stderr",
     "output_type": "stream",
     "text": [
      "C:\\Users\\Henry\\AppData\\Local\\Temp\\ipykernel_46860\\2687952231.py:1: FutureWarning: The default of observed=False is deprecated and will be changed to True in a future version of pandas. Pass observed=False to retain current behavior or observed=True to adopt the future default and silence this warning.\n",
      "  df.groupby(by=[\"AgeGroup\"])[[\"Survived\"]].apply(lambda _df: _df[_df[\"Survived\"] == 1].count() / _df.count())\n"
     ]
    },
    {
     "data": {
      "text/plain": "            Survived\nAgeGroup            \nVery Young  0.458101\nYoung       0.360656\nOld         0.434286\nVery Old    0.372881",
      "text/html": "<div>\n<style scoped>\n    .dataframe tbody tr th:only-of-type {\n        vertical-align: middle;\n    }\n\n    .dataframe tbody tr th {\n        vertical-align: top;\n    }\n\n    .dataframe thead th {\n        text-align: right;\n    }\n</style>\n<table border=\"1\" class=\"dataframe\">\n  <thead>\n    <tr style=\"text-align: right;\">\n      <th></th>\n      <th>Survived</th>\n    </tr>\n    <tr>\n      <th>AgeGroup</th>\n      <th></th>\n    </tr>\n  </thead>\n  <tbody>\n    <tr>\n      <th>Very Young</th>\n      <td>0.458101</td>\n    </tr>\n    <tr>\n      <th>Young</th>\n      <td>0.360656</td>\n    </tr>\n    <tr>\n      <th>Old</th>\n      <td>0.434286</td>\n    </tr>\n    <tr>\n      <th>Very Old</th>\n      <td>0.372881</td>\n    </tr>\n  </tbody>\n</table>\n</div>"
     },
     "execution_count": 53,
     "metadata": {},
     "output_type": "execute_result"
    }
   ],
   "source": [
    "df.groupby(by=[\"AgeGroup\"])[[\"Survived\"]].apply(lambda _df: _df[_df[\"Survived\"] == 1].count() / _df.count())"
   ]
  },
  {
   "cell_type": "code",
   "execution_count": 54,
   "id": "1a972df2-8aee-4df1-b284-8bed590baab7",
   "metadata": {},
   "outputs": [
    {
     "data": {
      "text/plain": "0         Braund\n1        Cumings\n2      Heikkinen\n3       Futrelle\n4          Allen\n         ...    \n886     Montvila\n887       Graham\n888     Johnston\n889         Behr\n890       Dooley\nName: Name, Length: 891, dtype: object"
     },
     "execution_count": 54,
     "metadata": {},
     "output_type": "execute_result"
    }
   ],
   "source": [
    "df[\"Name\"].apply(lambda x: x.split(\",\")[0])"
   ]
  },
  {
   "cell_type": "markdown",
   "id": "1018e61e-8c25-4d8f-a2a2-46b1e3017aef",
   "metadata": {},
   "source": [
    "<h3> Performance</h3>"
   ]
  },
  {
   "cell_type": "code",
   "execution_count": 55,
   "id": "12ff59a6-41ba-4f33-8180-280cda9f94b3",
   "metadata": {},
   "outputs": [],
   "source": [
    "df = pd.read_csv(\"train.csv\")"
   ]
  },
  {
   "cell_type": "markdown",
   "id": "8d840a52-f8db-4726-ac79-8a8b2a59edc4",
   "metadata": {},
   "source": [
    "<h4>Data Indexing</h4>"
   ]
  },
  {
   "cell_type": "code",
   "execution_count": 56,
   "id": "4419163d-5f99-4df5-be60-3d88f52643fa",
   "metadata": {},
   "outputs": [
    {
     "name": "stdout",
     "output_type": "stream",
     "text": [
      "11.1 µs ± 156 ns per loop (mean ± std. dev. of 7 runs, 100,000 loops each)\n"
     ]
    }
   ],
   "source": [
    "%timeit df.iat[100, 3]"
   ]
  },
  {
   "cell_type": "code",
   "execution_count": 57,
   "id": "68c84f76-3649-4617-b14d-f2f488f39b7e",
   "metadata": {},
   "outputs": [
    {
     "name": "stdout",
     "output_type": "stream",
     "text": [
      "4.11 µs ± 179 ns per loop (mean ± std. dev. of 7 runs, 100,000 loops each)\n"
     ]
    }
   ],
   "source": [
    "%timeit df[\"Name\"].at[100]"
   ]
  },
  {
   "cell_type": "code",
   "execution_count": 58,
   "id": "9e277af6-e7f8-4a8b-ac6f-581ca0e8b8b7",
   "metadata": {},
   "outputs": [
    {
     "name": "stdout",
     "output_type": "stream",
     "text": [
      "5.88 µs ± 133 ns per loop (mean ± std. dev. of 7 runs, 100,000 loops each)\n"
     ]
    }
   ],
   "source": [
    "%timeit df.loc[100, \"Name\"]"
   ]
  },
  {
   "cell_type": "code",
   "execution_count": 59,
   "id": "a50a784d-e8ee-4d5a-9a73-6eedaa521b2d",
   "metadata": {},
   "outputs": [
    {
     "name": "stdout",
     "output_type": "stream",
     "text": [
      "5.66 µs ± 25.8 ns per loop (mean ± std. dev. of 7 runs, 100,000 loops each)\n"
     ]
    }
   ],
   "source": [
    "%timeit df[\"Name\"].iloc[100]"
   ]
  },
  {
   "cell_type": "markdown",
   "id": "7379179c-2fe6-430c-b9f9-90149e2e191d",
   "metadata": {},
   "source": [
    "<h4>Iteration</h4>"
   ]
  },
  {
   "cell_type": "code",
   "execution_count": 60,
   "id": "e595ea3a-1346-42ea-9579-3a6cbb189882",
   "metadata": {},
   "outputs": [],
   "source": [
    "df_new = df.copy(deep=True)"
   ]
  },
  {
   "cell_type": "code",
   "execution_count": 61,
   "id": "f0bb3372-ef47-4bed-a7af-89e9c478d2c3",
   "metadata": {},
   "outputs": [
    {
     "name": "stdout",
     "output_type": "stream",
     "text": [
      "CPU times: total: 31.2 ms\n",
      "Wall time: 30 ms\n"
     ]
    }
   ],
   "source": [
    "%%time\n",
    "for index, row in df_new.iterrows():\n",
    "    row[\"Name\"].split(\",\")[0]"
   ]
  },
  {
   "cell_type": "code",
   "execution_count": 62,
   "id": "a5668225-d7cb-4e3c-ae76-90105958eef2",
   "metadata": {},
   "outputs": [],
   "source": [
    "df_new = df.copy(deep=True)"
   ]
  },
  {
   "cell_type": "code",
   "execution_count": 63,
   "id": "9ac671bc-21b9-4706-9a09-ff2a8043d5d9",
   "metadata": {},
   "outputs": [
    {
     "name": "stdout",
     "output_type": "stream",
     "text": [
      "271 µs ± 3.35 µs per loop (mean ± std. dev. of 7 runs, 1,000 loops each)\n"
     ]
    }
   ],
   "source": [
    "%timeit df_new[\"Name\"].apply(lambda x: x.split(\",\")[0])"
   ]
  },
  {
   "cell_type": "code",
   "execution_count": 64,
   "id": "174d12ac-7315-4bde-bcce-a2761f947acd",
   "metadata": {},
   "outputs": [],
   "source": [
    "def get_data(size = 10_000):\n",
    "    df = pd.DataFrame()\n",
    "    df['age'] = np.random.randint(0, 100, size)\n",
    "    df['time_at_work'] = np.random.randint(0,8,size)\n",
    "    df['percentage_productive'] = np.random.rand(size)\n",
    "    df['favorite_treat'] = np.random.choice(['ice_cream', 'boba', 'cookie'], size)\n",
    "    df['bad_karma'] = np.random.choice(['stub_toe', 'wifi_malfunction', 'extra_traffic'])\n",
    "    return df"
   ]
  },
  {
   "cell_type": "code",
   "execution_count": 65,
   "id": "994643d1-68e7-4713-901f-58bffd5251ab",
   "metadata": {},
   "outputs": [],
   "source": [
    "def reward_calc(row):\n",
    "  if row['age'] >= 65:\n",
    "    return row ['favorite_treat']\n",
    "  if (row['time_at_work'] >= 2) & (row['percentage_productive'] >= 0.5):\n",
    "    return row ['favorite_treat']\n",
    "  return row['bad_karma']"
   ]
  },
  {
   "cell_type": "code",
   "execution_count": 66,
   "id": "2e4b48b5-eb0b-4e49-8219-e6627599f3ac",
   "metadata": {},
   "outputs": [
    {
     "name": "stdout",
     "output_type": "stream",
     "text": [
      "1.38 s ± 17.6 ms per loop (mean ± std. dev. of 7 runs, 1 loop each)\n"
     ]
    }
   ],
   "source": [
    "%%timeit\n",
    "df = get_data()\n",
    "for index, row in df.iterrows():\n",
    "  df.loc[index, 'reward'] = reward_calc(row)\n"
   ]
  },
  {
   "cell_type": "code",
   "execution_count": 67,
   "id": "6830ff8f-7015-457b-b49f-c8830f81a8c8",
   "metadata": {},
   "outputs": [
    {
     "name": "stdout",
     "output_type": "stream",
     "text": [
      "84.2 ms ± 4.97 ms per loop (mean ± std. dev. of 7 runs, 10 loops each)\n"
     ]
    }
   ],
   "source": [
    "%%timeit\n",
    "df = get_data()\n",
    "df['reward'] = df.apply(reward_calc, axis=1)"
   ]
  },
  {
   "cell_type": "code",
   "execution_count": 68,
   "id": "6c089797-2709-48ad-a573-151ec6a3b649",
   "metadata": {},
   "outputs": [
    {
     "name": "stdout",
     "output_type": "stream",
     "text": [
      "2.88 ms ± 51.4 µs per loop (mean ± std. dev. of 7 runs, 100 loops each)\n"
     ]
    }
   ],
   "source": [
    "%%timeit\n",
    "df = get_data()\n",
    "df['reward'] = df['bad_karma']\n",
    "df.loc[((df['percentage_productive'] >= 0.5) & \n",
    "      (df['time_at_work'] >= 2)) |\n",
    "      (df['age'] >= 65), 'reward'] = df['favorite_treat']"
   ]
  },
  {
   "cell_type": "markdown",
   "id": "970c85db-91d2-44e5-a401-778865de297f",
   "metadata": {},
   "source": [
    "<h4>Data Loading</h4>"
   ]
  },
  {
   "cell_type": "code",
   "execution_count": 69,
   "id": "389c9821-93a1-4575-943d-29df77484492",
   "metadata": {},
   "outputs": [
    {
     "name": "stdout",
     "output_type": "stream",
     "text": [
      "552 µs ± 25.6 µs per loop (mean ± std. dev. of 7 runs, 1,000 loops each)\n"
     ]
    }
   ],
   "source": [
    "%timeit df.to_pickle(\"df.pkl\")"
   ]
  },
  {
   "cell_type": "code",
   "execution_count": 70,
   "id": "fe276a56-690f-4e74-8025-fbfbcd86052c",
   "metadata": {},
   "outputs": [
    {
     "name": "stdout",
     "output_type": "stream",
     "text": [
      "2.36 ms ± 104 µs per loop (mean ± std. dev. of 7 runs, 100 loops each)\n"
     ]
    }
   ],
   "source": [
    "%timeit df.to_parquet(\"df.parquet\")"
   ]
  },
  {
   "cell_type": "code",
   "execution_count": 71,
   "id": "b9956f32-fe4d-4f8d-8c69-6ce051de04fc",
   "metadata": {},
   "outputs": [
    {
     "name": "stdout",
     "output_type": "stream",
     "text": [
      "1.51 ms ± 97.3 µs per loop (mean ± std. dev. of 7 runs, 100 loops each)\n"
     ]
    }
   ],
   "source": [
    "%timeit df.to_feather(\"df.feather\")"
   ]
  },
  {
   "cell_type": "code",
   "execution_count": 72,
   "id": "859dc653-26f0-4a3e-9915-2a451fda17e9",
   "metadata": {},
   "outputs": [
    {
     "name": "stdout",
     "output_type": "stream",
     "text": [
      "388 µs ± 21 µs per loop (mean ± std. dev. of 7 runs, 1,000 loops each)\n"
     ]
    }
   ],
   "source": [
    "%timeit pd.read_pickle(\"df.pkl\")"
   ]
  },
  {
   "cell_type": "code",
   "execution_count": 73,
   "id": "c7e8ca6f-07cb-4615-9dd2-23f4695076a2",
   "metadata": {},
   "outputs": [
    {
     "name": "stdout",
     "output_type": "stream",
     "text": [
      "2.01 ms ± 8.88 µs per loop (mean ± std. dev. of 7 runs, 100 loops each)\n"
     ]
    }
   ],
   "source": [
    "%timeit pd.read_parquet(\"df.parquet\")"
   ]
  },
  {
   "cell_type": "code",
   "execution_count": 74,
   "id": "1bb64f5f-dacc-496c-8e9b-8c16f28987eb",
   "metadata": {},
   "outputs": [
    {
     "name": "stdout",
     "output_type": "stream",
     "text": [
      "1.11 ms ± 76.1 µs per loop (mean ± std. dev. of 7 runs, 1,000 loops each)\n"
     ]
    }
   ],
   "source": [
    "%timeit pd.read_feather(\"df.feather\")"
   ]
  },
  {
   "cell_type": "code",
   "execution_count": 74,
   "outputs": [],
   "source": [],
   "metadata": {
    "collapsed": false
   }
  }
 ],
 "metadata": {
  "kernelspec": {
   "name": "stat6015",
   "language": "python",
   "display_name": "Python (stat6015)"
  },
  "language_info": {
   "codemirror_mode": {
    "name": "ipython",
    "version": 3
   },
   "file_extension": ".py",
   "mimetype": "text/x-python",
   "name": "python",
   "nbconvert_exporter": "python",
   "pygments_lexer": "ipython3",
   "version": "3.10.14"
  }
 },
 "nbformat": 4,
 "nbformat_minor": 5
}
